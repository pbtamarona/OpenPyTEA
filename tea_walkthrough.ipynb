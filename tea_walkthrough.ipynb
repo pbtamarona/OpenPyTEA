{
 "cells": [
  {
   "cell_type": "markdown",
   "id": "64d739a8",
   "metadata": {},
   "source": [
    "## __Techno-economic Assessment (TEA) for Process and Power Plant Design__\n",
    "### Code for estimating fixed capital investment, fixed production costs and calculating economic performance metrics\n",
    "By P.B. Tamarona\n",
    "\n",
    "The methods and procedures are based on _Chemical Engineering Design_, 3rd Edition (Towler & Sinnott, 2021), and _Analysis, Synthesis, and Design of Chemical Processes_, 5th Edition (Turton et al., 2018)."
   ]
  },
  {
   "cell_type": "markdown",
   "id": "92f28522",
   "metadata": {},
   "source": [
    "### __1. Import the TEA module__\n",
    "\n",
    "The module can be accessed in the GitHub repository: __[pbtamarona/techno-economic](https://github.com/pbtamarona/techno-economic)__"
   ]
  },
  {
   "cell_type": "code",
   "execution_count": null,
   "id": "5299ca8d",
   "metadata": {},
   "outputs": [],
   "source": [
    "# Clone the GitHub repository into a subfolder named 'techno-economic'\n",
    "!git clone https://github.com/pbtamarona/techno-economic\n",
    "!cp techno-economic/*.py ."
   ]
  },
  {
   "cell_type": "code",
   "execution_count": null,
   "id": "ea39c779",
   "metadata": {},
   "outputs": [],
   "source": [
    "from tea import *"
   ]
  },
  {
   "cell_type": "markdown",
   "id": "361c7793",
   "metadata": {},
   "source": [
    "### __2. Create Equipment Objects__\n",
    "\n",
    "The second step is to create objects that represent each component in your process plant using the `Equipment`The second step is to create objects that represent each component in your process plant using the `Equipment` class. These objects capture key characteristics such as name, process type, material, and specific parameters like power or pressure.\n",
    "\n",
    "Below are some examples:"
   ]
  },
  {
   "cell_type": "code",
   "execution_count": null,
   "id": "34a26b96",
   "metadata": {},
   "outputs": [],
   "source": [
    "# Creating objects for the process equipment\n",
    "comp = Equipment(\n",
    "    name='Comp-1', \n",
    "    process_type='Fluids', \n",
    "    material='Carbon steel', \n",
    "    param=150, \n",
    "    type='Compressor', \n",
    "    subtype='Centrifugal'\n",
    ")\n",
    "\n",
    "motor_comp = Equipment(\n",
    "    name='Motor-1', \n",
    "    process_type='Electrical', \n",
    "    material='Carbon steel', \n",
    "    param=150/0.9,  # Adjusted for efficiency\n",
    "    type='Motor/generator', \n",
    "    subtype='Totally enclosed'\n",
    ")\n",
    "\n",
    "heatX = Equipment(\n",
    "    name='HeatX-1', \n",
    "    process_type='Fluids', \n",
    "    material='316 stainless steel', \n",
    "    param=50, \n",
    "    type='Heat exchanger', \n",
    "    subtype='U-tube shell & tube'\n",
    ")\n",
    "\n",
    "cooler = Equipment(\n",
    "    name='Cooler-1', \n",
    "    process_type='Fluids', \n",
    "    material='Carbon steel', \n",
    "    param=60, \n",
    "    type='Heat exchanger', \n",
    "    subtype='U-tube shell & tube'\n",
    ")\n",
    "\n",
    "psa = Equipment(\n",
    "    name='PSA', \n",
    "    process_type='Fluids', \n",
    "    material='Carbon steel', \n",
    "    param=800, \n",
    "    type='PSA'\n",
    ")\n",
    "\n",
    "reactor = Equipment(\n",
    "    name='Reactor', \n",
    "    process_type='Mixed', \n",
    "    material='316 stainless steel', \n",
    "    param=300, \n",
    "    type='Reactor', \n",
    "    subtype='Fluidized Bed'\n",
    ")\n"
   ]
  },
  {
   "cell_type": "markdown",
   "id": "da602d56",
   "metadata": {},
   "source": [
    "Here are the accepted inputs for Equipment Class:\n",
    "\n",
    "The `Equipment` class supports a range of **process types**, **materials**, **equipment types**, and **subtypes**, each associated with specific costing correlations. The main parameter (`param`) should be in appropriate units depending on the equipment type (e.g., kW for motors, kW for compressors, m² for heat exchangers, etc.).\n",
    "\n",
    "---\n",
    "\n",
    "#### 🏭 **Process Types**\n",
    "\n",
    "`process type` represent the nature of the equipment's role in the process and are used to determine installation and design factors:\n",
    "\n",
    "- Solids\n",
    "- Fluids\n",
    "- Mixed\n",
    "- Electrical\n",
    "\n",
    "---\n",
    "\n",
    "#### 🔩 **Material Options**\n",
    "\n",
    "`material` affect the cost multiplier based on fabrication and corrosion resistance:\n",
    "\n",
    "- Carbon steel\n",
    "- Aluminum\n",
    "- Bronze\n",
    "- Cast steel\n",
    "- 304 stainless steel\n",
    "- 316 stainless steel\n",
    "- 321 stainless steel\n",
    "- Hastelloy C\n",
    "- Monel\n",
    "- Nickel\n",
    "- Inconel\n",
    "\n",
    "---\n",
    "\n",
    "#### ⚙️ **Equipment Types and Subtypes**\n",
    "\n",
    "Each `type` may include specific `subtype` options that map to different costing correlations.\n",
    "\n",
    "| Type               | Subtype(s)                                                                 |\n",
    "|--------------------|----------------------------------------------------------------------------|\n",
    "| **Blower**         | *(no subtype)*                                                             |\n",
    "| **Compressor**     | Centrifugal, Reciprocating                                                 |\n",
    "| **Cyclone**        | *(no subtype)*                                                             |\n",
    "| **Heat exchanger** | U-tube shell & tube, Floating head shell & tube, Double pipe, Thermosiphon reboiler, U-tube kettle reboiler, Plate & frame |\n",
    "| **Furnace/heater** | Cylindrical furnace, Box furnace, Pyrolysis furnace, Electric furnace      |\n",
    "| **Motor/generator**| Explosion proof, Totally enclosed                                          |\n",
    "| **PSA**            | *(no subtype)*                                                             |\n",
    "| **Pump**           | *(no subtype)*                                                             |\n",
    "| **Reactor**        | Fluidized Bed, Vertical CS Vessel, Horizontal CS Vessel, Vertical 304SS Vessel, Horizontal 304SS Vessel |\n",
    "| **Turbine**        | Condensing steam, Axial gas, Radial expander                               |\n",
    "\n",
    "---\n",
    "\n",
    "#### 📐 **Parameter (`param`) Units**\n",
    "\n",
    "The unit for the `param` argument depends on the cost correlations used for each type of equipment:\n",
    "\n",
    "| Equipment Type      | Sub-type                     | Source           | Parameter Meaning         | Example Unit      | Valid Value Range        |\n",
    "|---------------------|------------------------------|------------------|---------------------------|-------------------|--------------------------|\n",
    "| Blower              | Blower                       | Towler, 2010     | Volumetric flow rate      | m³/h              | 200 - 5000               |\n",
    "| Compressor          | Centrifugal                  | Towler, 2010     | Driver power              | kW                | 75 - 30,000              |\n",
    "|                     | Reciprocating                | Towler, 2010     | Driver power              | kW                | 93 - 16,800              |\n",
    "| Cyclone             | Gas Multi-cyclone            | Ulrich, 2003     | Volumetric flow rate      | m³/h              | 0.1 - 45                 |\n",
    "| Heat exchanger      | U-tube shell & tube          | Towler, 2010     | Heat exchanger area       | m²                | 10 - 1000                |\n",
    "|                     | Floating head shell & tube   | Towler, 2010     | Heat exchanger area       | m²                | 10 - 1000                |\n",
    "|                     | Double pipe                  | Towler, 2010     | Heat exchanger area       | m²                | 1 - 80                   |\n",
    "|                     | Thermosiphon reboiler        | Towler, 2010     | Heat exchanger area       | m²                | 10 - 500                 |\n",
    "|                     | U-tube kettle reboiler       | Towler, 2010     | Heat exchanger area       | m²                | 10 - 500                 |\n",
    "|                     | Plate & frame                | Towler, 2010     | Heat exchanger area       | m²                | 1 - 500                  |\n",
    "| Furnace/heater      | Cylindrical furnace          | Towler, 2010     | Heating duty              | MW                | 0.2 - 60                 |\n",
    "|                     | Box furnace                  | Towler, 2010     | Heating duty              | MW                | 30 - 120                 |\n",
    "|                     | Pyrolysis furnace            | Ulrich, 2003     | Heating duty              | kW                | 3000 - 60,000            |\n",
    "|                     | Electric furnace (Arc)       | Parkinson, 2016  | Electric power            | MWe               | N/A                      |\n",
    "| Motor/generator     | Explosion proof              | Ulrich, 2003     | Shaft power               | kW                | 2.8 - 5000               |\n",
    "|                     | Totally enclosed             | Ulrich, 2003     | Shaft power               | kW                | 0.2 - 9000               |\n",
    "| PSA                 | PSA                          | Towler, 1994     | Mole feed rate            | kmol/h            | N/A                      |\n",
    "| Pump                | Single-stage centrifugal pump| Towler, 2010     | Volumetric flow rate      | L/s               | 0.2 - 126                |\n",
    "| Reactor             | Fluidized Bed                | Ulrich, 2003     | Reactor volume            | m³                | 0.3 - 2400               |\n",
    "|                     | Vertical CS Vessel           | Towler, 2010     | Shell mass                | kg                | 160 - 250,000            |\n",
    "|                     | Horizontal CS Vessel         | Towler, 2010     | Shell mass                | kg                | 160 - 50,000             |\n",
    "|                     | Vertical 304SS Vessel        | Towler, 2010     | Shell mass                | kg                | 120 - 250,000            |\n",
    "|                     | Horizontal 304SS Vessel      | Towler, 2010     | Shell mass                | kg                | 120 - 50,000             |\n",
    "| Turbine             | Condensing steam             | Towler, 2010     | Turbine power             | kW                | 100 - 20,000             |\n",
    "|                     | Axial gas                    | Ulrich, 2003     | Turbine power             | kW                | 10 - 10,000              |\n",
    "|                     | Radial expander              | Ulrich, 2003     | Turbine power             | kW                | 2.5 - 1500               |\n",
    "\n",
    "##### 📝 Some notes\n",
    "\n",
    "Ensure that the value passed to `param` is consistent with the cost correlation being applied.\n",
    "\n",
    "The value of `param` cannot be less than the valid range. However, if it exceeds the valid range, the class will consider an additional number of parallel units."
   ]
  },
  {
   "cell_type": "markdown",
   "id": "2be06ed4",
   "metadata": {},
   "source": [
    "Once you have created the objects for your process plant equipment, you can check the estimated purchase and direct costs of each component as follows"
   ]
  },
  {
   "cell_type": "code",
   "execution_count": null,
   "id": "b7e011cd",
   "metadata": {},
   "outputs": [],
   "source": [
    "print(f\"Purchase cost of the compressor: ${comp.purchased_cost:,.2f}\")\n",
    "print(f\"Direct cost of the compressor: ${comp.direct_cost:,.2f}\")"
   ]
  },
  {
   "cell_type": "markdown",
   "id": "e898eef9",
   "metadata": {},
   "source": [
    "### __3. Estimating Fixed Capital Investment__\n",
    "\n",
    "Now we estimate the total fixed capital investment (FCI) of the plant, which consists of:\n",
    "\n",
    "- Inside Battery Limits (ISBL)  \n",
    "- Outside Battery Limits (OSBL)  \n",
    "- Design and engineering costs\n",
    "- Contingency\n",
    "\n",
    "Estimated using the following equation:\n",
    "\n",
    "$$\n",
    "\\text{FCI} = \\text{ISBL} \\cdot (1 + OS) \\cdot (1 + D\\&E + X) \\cdot LF\n",
    "$$\n",
    "\n",
    "Where, ISBL is the total of equipment direct costs and the other are factors are determined based on the user inputs in the plant configuration: `process_type`, `country`, and `region`.\n",
    "\n",
    "- **Process type**: Determines the nature of the plant's operation and influences cost estimation factors. The available types are:  \n",
    "    - `Solids`: OS = 0.4, D\\&E = 0.2, X = 0.1  \n",
    "    - `Fluids`: OS = 0.3, D\\&E = 0.3, X = 0.1  \n",
    "    - `Mixed`: OS = 0.4, D\\&E = 0.25, X = 0.1  \n",
    "\n",
    "- **Country & region**: Determines the location factor (_LF_), which adjusts the estimated capital cost to reflect local economic conditions and construction costs. Available countries and regions are:  \n",
    "\n",
    "    - **United States**\n",
    "        - Gulf Coast: 1.00  \n",
    "        - East Coast: 1.04  \n",
    "        - West Coast: 1.07  \n",
    "        - Midwest: 1.02  \n",
    "    - **Canada** \n",
    "        - Ontario: 1.00  \n",
    "        - Fort McMurray: 1.60  \n",
    "    - **Mexico**: 1.03  \n",
    "    - **Brazil**: 1.14  \n",
    "    - **China**  \n",
    "        - Imported: 1.12  \n",
    "        - Indigenous: 0.61  \n",
    "    - **Japan**: 1.26  \n",
    "    - **Southeast Asia**: 1.12  \n",
    "    - **Australia**: 1.21  \n",
    "    - **India**: 1.02  \n",
    "    - **Middle East**: 1.07  \n",
    "    - **France**: 1.13  \n",
    "    - **Germany**: 1.11  \n",
    "    - **Italy**: 1.14  \n",
    "    - **Netherlands**: 1.19  \n",
    "    - **Russia**: 1.53  \n",
    "    - **United Kingdom**: 1.02  \n",
    "\n",
    "*Note: These factors are based on _Chemical Engineering Design_, 3rd Edition (Towler & Sinnott, 2021).*\n"
   ]
  },
  {
   "cell_type": "markdown",
   "id": "cf6dc1ae",
   "metadata": {},
   "source": [
    "These basic plant inputs are provided in the `config` dictionary as follows:"
   ]
  },
  {
   "cell_type": "code",
   "execution_count": null,
   "id": "03bcc511",
   "metadata": {},
   "outputs": [],
   "source": [
    "config = {\n",
    "    'process_type': 'Mixed',\n",
    "    'country': 'Netherlands',\n",
    "    'region': None,\n",
    "    # List all the process equipment objects that have been created below\n",
    "    # This is for calculating the ISBL cost\n",
    "    'equipment': [\n",
    "        comp,\n",
    "        motor_comp,\n",
    "        heatX,\n",
    "        cooler,\n",
    "        psa,\n",
    "        reactor\n",
    "    ]\n",
    "}"
   ]
  },
  {
   "cell_type": "markdown",
   "id": "b580af1a",
   "metadata": {},
   "source": [
    "Using function `calculate_fixed_capital`, we calculate the ISBL, OSBL, design and engineering costs, contigency and FCI values:"
   ]
  },
  {
   "cell_type": "code",
   "execution_count": null,
   "id": "29f016c1",
   "metadata": {},
   "outputs": [],
   "source": [
    "isbl, osbl, dne, x, fci = calculate_fixed_capital(config)\n",
    "\n",
    "# Print the resultS\n",
    "print(\"Capital Cost Estimation\")\n",
    "print(\"===================================\")\n",
    "print(f\"ISBL: ${isbl:,.2f}\")\n",
    "print(f\"OSBL: ${osbl:,.2f}\")\n",
    "print(f\"Design and Engineering: ${dne:,.2f}\")\n",
    "print(f\"Contingency: ${x:,.2f}\")\n",
    "print(f\"Fixed Capital Investment: ${fci:,.2f}\")"
   ]
  },
  {
   "cell_type": "markdown",
   "id": "96a3ef27",
   "metadata": {},
   "source": [
    "### __4. Estimating Variable Production Costs__\n",
    "\n",
    "The function `calculate_variable_opex` calculates the variable of the production expenses, which includes:\n",
    "- Electricity\n",
    "- Water (cooling, etc.)\n",
    "- Natural Gas\n",
    "- Chemicals\n",
    "- Other utilities or consumables defined in the configuration\n",
    "\n",
    "These costs are calculated based on the annual **consumption** and **unit price** for each resource.\n",
    "\n",
    "All variable cost items are grouped under the `variable_opex` key in a `config` dictionary. Each item is itself a dictionary with the following keys:\n",
    "\n",
    "- `consumption`: Annual consumption of the resource\n",
    "- `price`: Unit price in USD\n",
    "- `price_std` *(optional)*: Standard deviation in price (optional for uncertainty analysis, you can ignore this for now)"
   ]
  },
  {
   "cell_type": "code",
   "execution_count": null,
   "id": "09e7c1bc",
   "metadata": {},
   "outputs": [],
   "source": [
    "config.update({\n",
    "    'variable_opex_inputs': {\n",
    "        'electricity': {\n",
    "            'consumption': 100_000*1e3,# kWh/year\n",
    "            'price': 0.10,            # USD/kWh\n",
    "            'price_std': 0.025/2,\n",
    "            'price_max': 3,\n",
    "            'price_min': 0.01\n",
    "        },\n",
    "        'water': {\n",
    "            'consumption': 1_000_000, # m³/year\n",
    "            'price': 0.3,             # USD/m³\n",
    "            'price_std': 0.05,\n",
    "            'price_max': 0.6,\n",
    "            'price_min': 0.01\n",
    "        },\n",
    "        'natural gas': {\n",
    "            'consumption': 1_000_000, # MMBtu/year\n",
    "            'price': 3.5,             # USD/MMBtu\n",
    "            'price_std': 0.5,\n",
    "            'price_max': 5.0,\n",
    "            'price_min': 0\n",
    "        },\n",
    "        'chemicals': {\n",
    "            'consumption': 500_000,   # tonnes/year\n",
    "            'price': 40,              # USD/tonne\n",
    "            'price_std': 10,\n",
    "            'price_max': 80,\n",
    "            'price_min': 5\n",
    "        },\n",
    "        # Add more variable opex items as needed        \n",
    "    }\n",
    "})"
   ]
  },
  {
   "cell_type": "markdown",
   "id": "dffabc81",
   "metadata": {},
   "source": [
    "Now we can use the `calculate_variable_opex` function:"
   ]
  },
  {
   "cell_type": "code",
   "execution_count": null,
   "id": "a491e5c8",
   "metadata": {},
   "outputs": [],
   "source": [
    "variable_production_costs = calculate_variable_opex(config)\n",
    "\n",
    "# Print the results\n",
    "print(f\"Variable OPEX: ${variable_production_costs:,.2f} per year\")"
   ]
  },
  {
   "cell_type": "markdown",
   "id": "2ed67f73",
   "metadata": {},
   "source": [
    "### __5. Estimating Fixed Production Costs__\n",
    "\n",
    "The function `calculate_fixed_opex` calculates the fixed portion of the operating expenses, which includes:\n",
    "- Maintenance\n",
    "- Taxes and insurance\n",
    "- Operating labor\n",
    "- Supervision and overhead\n",
    "- et cetera.\n",
    "\n",
    "In addition to fixed capital investment, the fixed production costs are estimated based on the plant's working capital, variable production costs , interest rate and operator's hourly rate.\n",
    "\n",
    "*Note, this is mainly calculated based on _Analysis, Synthesis, and Design of Chemical Processes_, 5th Edition (Turton et al., 2018)\n",
    "\n",
    "Therefore, we first need to update our plant `config` dictionary with these financial parameters:"
   ]
  },
  {
   "cell_type": "code",
   "execution_count": null,
   "id": "346bc623",
   "metadata": {},
   "outputs": [],
   "source": [
    "config.update({\n",
    "    'working_capital': 0.15*config['fixed_capital'],  # Common assumption for working capital: 15% of the fixed capital\n",
    "    'interest_rate': 0.09,  # The annual interest rate used for financing, here set at 9%.\n",
    "    'operator_hourly_rate': 38.11  # The hourly rate of 1 process plant operator (in US$/hour)\n",
    "})"
   ]
  },
  {
   "cell_type": "markdown",
   "id": "166f2a04",
   "metadata": {},
   "source": [
    "Now we can use the `calculate_fixed_opex` function:"
   ]
  },
  {
   "cell_type": "code",
   "execution_count": null,
   "id": "6af06f12",
   "metadata": {},
   "outputs": [],
   "source": [
    "fixed_production_costs = calculate_fixed_opex(config)\n",
    "\n",
    "# Print the results\n",
    "print(\"Operating Cost Estimation\")\n",
    "print(\"===================================\")\n",
    "print(f\"Variable OPEX: ${variable_production_costs:,.2f}\")\n",
    "print(f\"Fixed OPEX: ${fixed_production_costs:,.2f}\")\n",
    "print(f\"Total OPEX: ${fixed_production_costs+variable_production_costs:,.2f}\")"
   ]
  },
  {
   "cell_type": "markdown",
   "id": "307b9017",
   "metadata": {},
   "source": [
    "### __6. Calculating Economic Performance Metrics__\n",
    "\n",
    "Once we have the total CAPEX (i.e., Fixed Capital Investment or FCI) and OPEX (i.e., variable and fixed operating costs), we can calculate the key economic performance metrics.\n",
    "\n",
    "This code covers the following metrics:\n",
    "- __Net-present value (NPV)__\n",
    "- __Internal rate of return (IRR)__\n",
    "- __Payback time (PBT)__\n",
    "- __Return of investment (ROI)__\n",
    "- __Levelized cost__\n",
    "\n",
    "The first step in calculating the metrics is to create the cash flow for the process plant throughout its lifetime.\n",
    "\n",
    "To do this, we need the following inputs in our plant config dictionary:\n",
    "- Project lifetime (in years, minimum of 3 years)\n",
    "- Annual production of the product (e.g. MWh/year of electricity, kg/year of H2)\n",
    "- Price of product in US$/unit (ensure that the unit matches the one used for annual production)\n",
    "- Income tax rate"
   ]
  },
  {
   "cell_type": "code",
   "execution_count": null,
   "id": "8e8f68cd",
   "metadata": {},
   "outputs": [],
   "source": [
    "config.update({\n",
    "    'project_lifetime': 20,  # in years\n",
    "    'annual_prod': 10_000_000,  # in unit per year\n",
    "    'product_price': 5,  # in currency per unit\n",
    "    'tax_rate': 0.3,  # assuming 30% tax rate\n",
    "})"
   ]
  },
  {
   "cell_type": "markdown",
   "id": "94a1dcab",
   "metadata": {},
   "source": [
    "To create the process plant cash flow table, we use the function `create_cash_flow_table` as follows:"
   ]
  },
  {
   "cell_type": "code",
   "execution_count": null,
   "id": "2378c9e6",
   "metadata": {},
   "outputs": [],
   "source": [
    "print(\"Cash Flow Table\")\n",
    "print(\"================\")\n",
    "create_cash_flow_table(config)"
   ]
  },
  {
   "cell_type": "markdown",
   "id": "055bae84",
   "metadata": {},
   "source": [
    "Tha annual variation in the cash flow is calculated based on the typical start-up schedule of a chemical plant, as described in _Chemical Engineering Design_, 3rd Edition (Towler & Sinnott, 2021).\n",
    "\n",
    "Below is the start-up schedule adapted for the cash flow calculation in this code:\n",
    "\n",
    "\n",
    "| **Year**  | **Costs**                                                                 | **Revenues**              | **Explanation**                             |\n",
    "|-----------|---------------------------------------------------------------------------|---------------------------|---------------------------------------------|\n",
    "| 1st       | 30% of FCI                                                                | 0                         | Engineering and long lead-time items        |\n",
    "| 2nd       | 60% of FCI                                                                | 0                         | Procurement and construction                |\n",
    "| 3rd       | 10% of FCI + working capital + fixed production costs + 40% of variable production costs | 40% of design revenue    | Remaining construction and initial production |\n",
    "| 4th       | Fixed production costs + 80% of variable production costs                 | 80% of design revenue     | Shake-down of plant                         |\n",
    "| 5th+++    | Fixed + variable production costs                                         | 100% of design revenue    | Full production at design rates             |"
   ]
  },
  {
   "cell_type": "markdown",
   "id": "0fee44fc",
   "metadata": {},
   "source": [
    "---\n",
    "As you may have noticed in the cash flow table, the __NPVs__ for each year of the project lifetime are calculated in the last column.\n",
    "\n",
    "Now, based on this cash flow, we can calculate the remaining economic performance metrics as follows:"
   ]
  },
  {
   "cell_type": "code",
   "execution_count": null,
   "id": "124de8d6",
   "metadata": {},
   "outputs": [],
   "source": [
    "print(f\"Internal rate of return: {round(calculate_irr(config),3) * 100}%\")\n",
    "print(f\"Payback time: {round(calculate_payback_time(config),1)} years\")\n",
    "print(f\"Return on investment: {round(calculate_roi(config),4) * 100}%\")"
   ]
  },
  {
   "cell_type": "markdown",
   "id": "22a1c08e",
   "metadata": {},
   "source": [
    "There have been many type of levelized cost equations in the literature. In this code we opt to choose this version:\n",
    "\n",
    "$$\n",
    "\\text{LCOP} = \n",
    "\\frac{\\displaystyle\n",
    "  \\sum_{t=1}^{tp} \\frac{\\text{CAPEX}_t + \\text{OPEX}_t}{(1 + i)^t}\n",
    "}{\\displaystyle\n",
    "  \\sum_{t=1}^{tp} \\frac{\\text{PRODUCT}_{t}}{(1 + i)^t}\n",
    "}\n",
    "$$\n",
    "\n",
    "where $\\text{LCOP}$ is the levelized cost of products, $\\text{CAPEX}_t$ represents the capital cost in year $ t $, $ \\text{OPEX}_t $ is the cash cost of production (total OPEX) in year $ t $, and $ \\text{PRODUCT}_{t} $ is the amount of product produced in year $ t $, while $ i $ is the fixed interest rate (discount rate). The year index, $ t $, ranging from 1 to $ t_p $, where $ t_p $ represents the project lifetime in years."
   ]
  },
  {
   "cell_type": "code",
   "execution_count": null,
   "id": "74aa24c0",
   "metadata": {},
   "outputs": [],
   "source": [
    "print(f\"LCOP: ${round(calculate_levelized_cost(config),3)}/unit\")"
   ]
  },
  {
   "cell_type": "markdown",
   "id": "e14e7e5f",
   "metadata": {},
   "source": [
    "### **7. Sensitivity Analyses**\n",
    "\n",
    "In TEA, sensitivity analysis is crucial to evaluate how uncertainties in input parameters affect the overall results. Cost estimates, operating parameters, and economic assumptions often involve inherent variability. By conducting sensitivity analyses, we can identify which variables have the most significant impact on the final economic metric—in this case, the LCOP—and assess how the plant performs under economic uncertainty.\n",
    "\n",
    "This section presents two types of sensitivity analyses:\n",
    "\n",
    "- **Tornado plot analysis**  \n",
    "  A deterministic one-at-a-time (OAT) sensitivity analysis. Each selected input parameter is varied by a fixed percentage (e.g., ±50%) while keeping others constant. The resulting change in LCOH is visualized in a tornado plot, which highlights the most influential parameters by bar length.\n",
    "\n",
    "- **Monte Carlo analysis**  \n",
    "  A probabilistic method that considers simultaneous variations of all uncertain input parameters. Each parameter is defined by a probability distribution (e.g., truncated normal), and a large number of simulations (e.g., 1,000,000) are conducted to generate a distribution of LCOP outcomes. This method provides a way to assess economic performance under simultaneous uncertainty in all key inputs."
   ]
  },
  {
   "cell_type": "markdown",
   "id": "0f7cae81",
   "metadata": {},
   "source": [
    "#### __Tornado plot analysis__\n",
    "The following functions are used to generate the tornado plot with ±50% variation:"
   ]
  },
  {
   "cell_type": "code",
   "execution_count": null,
   "id": "4a75c5fd",
   "metadata": {},
   "outputs": [],
   "source": [
    "tornado_plot(config, plus_minus_value=0.5)"
   ]
  },
  {
   "cell_type": "markdown",
   "id": "68a0ea5b",
   "metadata": {},
   "source": [
    "The tornado plot shows that chemicals price and fixed OPEX are the most influential factors affecting LCOP, followed by operator hourly rate and natural gas price. Conversely, variables such as water price, interest rate, and project lifetime have relatively minor impacts. This visualization helps prioritize which parameters require more accurate estimation or tighter control in order to reduce economic uncertainty."
   ]
  },
  {
   "cell_type": "markdown",
   "id": "fe6976ff",
   "metadata": {},
   "source": [
    "#### __Monte Carlo analysis__\n",
    "The `monte_carlo()` function performs the Monte Carlo analysis based on uncertain input parameters. It includes the following arguments:\n",
    "\n",
    "- **`num_samples`** *(default: 1,000,000)*: Total number of samples drawn for the simulation. A higher value increases accuracy but requires more computation time.\n",
    "- **`batch_size`** *(default: 1,000)*: Number of samples processed in each batch to manage memory usage efficiently.\n",
    "- **`show_input_distributions`** *(True/False)*: If `True`, displays histograms of sampled input distributions to visualize uncertainty in each variable."
   ]
  },
  {
   "cell_type": "code",
   "execution_count": null,
   "id": "f99529ab",
   "metadata": {},
   "outputs": [],
   "source": [
    "lcohs = monte_carlo(config, num_samples=1_000_000, batch_size=1000, show_input_distributions=True)"
   ]
  },
  {
   "cell_type": "markdown",
   "id": "bba4c9f9",
   "metadata": {},
   "source": [
    "The first set of plots shows the input parameter distributions used in the Monte Carlo analysis. Each histogram represents the assumed variability in a specific economic or operational parameter, such as fixed capital, interest rate, or natural gas price. The red lines indicate the fitted normal distribution for each parameter.\n",
    "\n",
    "The final plot displays the resulting distribution of the LCOP based on 1,000,000 simulation samples. The narrow distribution (mean: 4.42 USD/kg, standard deviation: 0.02) indicates that the LCOP is relatively stable under the assumed uncertainties, suggesting a robust economic performance for the given process configuration."
   ]
  },
  {
   "cell_type": "markdown",
   "id": "f486ef12",
   "metadata": {},
   "source": []
  },
  {
   "cell_type": "code",
   "execution_count": null,
   "id": "05fed394",
   "metadata": {},
   "outputs": [],
   "source": []
  }
 ],
 "metadata": {
  "kernelspec": {
   "display_name": "Python 3",
   "language": "python",
   "name": "python3"
  },
  "language_info": {
   "codemirror_mode": {
    "name": "ipython",
    "version": 3
   },
   "file_extension": ".py",
   "mimetype": "text/x-python",
   "name": "python",
   "nbconvert_exporter": "python",
   "pygments_lexer": "ipython3",
   "version": "3.13.3"
  }
 },
 "nbformat": 4,
 "nbformat_minor": 5
}
