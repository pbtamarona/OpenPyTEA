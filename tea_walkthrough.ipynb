{
 "cells": [
  {
   "cell_type": "markdown",
   "id": "64d739a8",
   "metadata": {},
   "source": [
    "## __Techno-economic Analysis for Process Plant Design__\n",
    "### Code for estimating fixed capital investment, fixed production costs and calculating economic performance metrics\n",
    "By P.B. Tamarona\n",
    "\n",
    "The methods and procedures are based on _Chemical Engineering Design_, 3rd Edition (Towler & Sinnott, 2021), and _Analysis, Synthesis, and Design of Chemical Processes_, 5th Edition (Turton et al., 2018)."
   ]
  },
  {
   "cell_type": "markdown",
   "id": "92f28522",
   "metadata": {},
   "source": [
    "### __1. Import the TEA module__\n",
    "\n",
    "The module can be accessed in the GitHub repository: https://github.com/pbtamarona/techno-economic"
   ]
  },
  {
   "cell_type": "code",
   "execution_count": null,
   "id": "5299ca8d",
   "metadata": {},
   "outputs": [
    {
     "name": "stderr",
     "output_type": "stream",
     "text": [
      "'git' is not recognized as an internal or external command,\n",
      "operable program or batch file.\n",
      "'cp' is not recognized as an internal or external command,\n",
      "operable program or batch file.\n"
     ]
    }
   ],
   "source": [
    "# Clone the GitHub repository into a subfolder named 'techno-economic'\n",
    "!git clone https://github.com/pbtamarona/techno-economic\n",
    "\n",
    "!cp techno-economic/*.py ."
   ]
  },
  {
   "cell_type": "code",
   "execution_count": null,
   "id": "ea39c779",
   "metadata": {},
   "outputs": [
    {
     "name": "stderr",
     "output_type": "stream",
     "text": [
      "'git' is not recognized as an internal or external command,\n",
      "operable program or batch file.\n"
     ]
    }
   ],
   "source": [
    "from tea import *"
   ]
  },
  {
   "cell_type": "markdown",
   "id": "361c7793",
   "metadata": {},
   "source": [
    "### __2. Create Equipment Objects__\n",
    "\n",
    "The second step is to create objects that represent each component in your process plant using the `Equipment`The second step is to create objects that represent each component in your process plant using the `Equipment` class. These objects capture key characteristics such as name, process type, material, and specific parameters like power or pressure.\n",
    "\n",
    "Below are some examples:"
   ]
  },
  {
   "cell_type": "code",
   "execution_count": 7,
   "id": "34a26b96",
   "metadata": {},
   "outputs": [],
   "source": [
    "# Creating objects for the process equipment\n",
    "comp = Equipment(\n",
    "    name='Comp-1', \n",
    "    process_type='Fluids', \n",
    "    material='Carbon steel', \n",
    "    param=150, \n",
    "    type='Compressor', \n",
    "    subtype='Centrifugal'\n",
    ")\n",
    "\n",
    "motor_comp = Equipment(\n",
    "    name='Motor-1', \n",
    "    process_type='Electrical', \n",
    "    material='Carbon steel', \n",
    "    param=150/0.9,  # Adjusted for efficiency\n",
    "    type='Motor/generator', \n",
    "    subtype='Totally enclosed'\n",
    ")\n",
    "\n",
    "heatX = Equipment(\n",
    "    name='HeatX-1', \n",
    "    process_type='Fluids', \n",
    "    material='316 stainless steel', \n",
    "    param=50, \n",
    "    type='Heat exchanger', \n",
    "    subtype='U-tube shell & tube'\n",
    ")\n",
    "\n",
    "cooler = Equipment(\n",
    "    name='Cooler-1', \n",
    "    process_type='Fluids', \n",
    "    material='Carbon steel', \n",
    "    param=60, \n",
    "    type='Heat exchanger', \n",
    "    subtype='U-tube shell & tube'\n",
    ")\n",
    "\n",
    "psa = Equipment(\n",
    "    name='PSA', \n",
    "    process_type='Fluids', \n",
    "    material='Carbon steel', \n",
    "    param=800, \n",
    "    type='PSA'\n",
    ")\n",
    "\n",
    "reactor = Equipment(\n",
    "    name='Reactor', \n",
    "    process_type='Mixed', \n",
    "    material='316 stainless steel', \n",
    "    param=300, \n",
    "    type='Reactor', \n",
    "    subtype='Fluidized Bed'\n",
    ")\n"
   ]
  },
  {
   "cell_type": "markdown",
   "id": "da602d56",
   "metadata": {},
   "source": [
    "Here are the accepted inputs for Equipment Class:\n",
    "\n",
    "The `Equipment` class supports a range of **process types**, **materials**, **equipment types**, and **subtypes**, each associated with specific costing correlations. The main parameter (`param`) should be in appropriate units depending on the equipment type (e.g., kW for motors, kW for compressors, m² for heat exchangers, etc.).\n",
    "\n",
    "---\n",
    "\n",
    "#### 🏭 **Process Types**\n",
    "\n",
    "`process type` represent the nature of the equipment's role in the process and are used to determine installation and design factors:\n",
    "\n",
    "- Solids\n",
    "- Fluids\n",
    "- Mixed\n",
    "- Electrical\n",
    "\n",
    "---\n",
    "\n",
    "#### 🔩 **Material Options**\n",
    "\n",
    "`material` affect the cost multiplier based on fabrication and corrosion resistance:\n",
    "\n",
    "- Carbon steel\n",
    "- Aluminum\n",
    "- Bronze\n",
    "- Cast steel\n",
    "- 304 stainless steel\n",
    "- 316 stainless steel\n",
    "- 321 stainless steel\n",
    "- Hastelloy C\n",
    "- Monel\n",
    "- Nickel\n",
    "- Inconel\n",
    "\n",
    "---\n",
    "\n",
    "#### ⚙️ **Equipment Types and Subtypes**\n",
    "\n",
    "Each `type` may include specific `subtype` options that map to different costing correlations.\n",
    "\n",
    "| Type               | Subtype(s)                                                                 |\n",
    "|--------------------|----------------------------------------------------------------------------|\n",
    "| **Blower**         | *(no subtype)*                                                             |\n",
    "| **Compressor**     | Centrifugal, Reciprocating                                                 |\n",
    "| **Cyclone**        | *(no subtype)*                                                             |\n",
    "| **Heat exchanger** | U-tube shell & tube, Floating head shell & tube, Double pipe, Thermosiphon reboiler, U-tube kettle reboiler, Plate & frame |\n",
    "| **Furnace/heater** | Cylindrical furnace, Box furnace, Pyrolysis furnace, Electric furnace      |\n",
    "| **Motor/generator**| Explosion proof, Totally enclosed                                          |\n",
    "| **PSA**            | *(no subtype)*                                                             |\n",
    "| **Pump**           | *(no subtype)*                                                             |\n",
    "| **Reactor**        | Fluidized Bed, Vertical CS Vessel, Horizontal CS Vessel, Vertical 304SS Vessel, Horizontal 304SS Vessel |\n",
    "| **Turbine**        | Condensing steam, Axial gas, Radial expander                               |\n",
    "\n",
    "---\n",
    "\n",
    "#### 📐 **Parameter (`param`) Units**\n",
    "\n",
    "The unit for the `param` argument depends on the cost correlations used for each type of equipment:\n",
    "\n",
    "| Equipment Type      | Sub-type                     | Source           | Parameter Meaning         | Example Unit      | Valid Value Range        |\n",
    "|---------------------|------------------------------|------------------|---------------------------|-------------------|--------------------------|\n",
    "| Blower              | Blower                       | Towler, 2010     | Volumetric flow rate      | m³/h              | 200 - 5000               |\n",
    "| Compressor          | Centrifugal                  | Towler, 2010     | Driver power              | kW                | 75 - 30,000              |\n",
    "|                     | Reciprocating                | Towler, 2010     | Driver power              | kW                | 93 - 16,800              |\n",
    "| Cyclone             | Gas Multi-cyclone            | Ulrich, 2003     | Volumetric flow rate      | m³/h              | 0.1 - 45                 |\n",
    "| Heat exchanger      | U-tube shell & tube          | Towler, 2010     | Heat exchanger area       | m²                | 10 - 1000                |\n",
    "|                     | Floating head shell & tube   | Towler, 2010     | Heat exchanger area       | m²                | 10 - 1000                |\n",
    "|                     | Double pipe                  | Towler, 2010     | Heat exchanger area       | m²                | 1 - 80                   |\n",
    "|                     | Thermosiphon reboiler        | Towler, 2010     | Heat exchanger area       | m²                | 10 - 500                 |\n",
    "|                     | U-tube kettle reboiler       | Towler, 2010     | Heat exchanger area       | m²                | 10 - 500                 |\n",
    "|                     | Plate & frame                | Towler, 2010     | Heat exchanger area       | m²                | 1 - 500                  |\n",
    "| Furnace/heater      | Cylindrical furnace          | Towler, 2010     | Heating duty              | MW                | 0.2 - 60                 |\n",
    "|                     | Box furnace                  | Towler, 2010     | Heating duty              | MW                | 30 - 120                 |\n",
    "|                     | Pyrolysis furnace            | Ulrich, 2003     | Heating duty              | kW                | 3000 - 60,000            |\n",
    "|                     | Electric furnace (Arc)       | Parkinson, 2016  | Electric power            | MWe               | N/A                      |\n",
    "| Motor/generator     | Explosion proof              | Ulrich, 2003     | Shaft power               | kW                | 2.8 - 5000               |\n",
    "|                     | Totally enclosed             | Ulrich, 2003     | Shaft power               | kW                | 0.2 - 9000               |\n",
    "| PSA                 | PSA                          | Towler, 1994     | Mole feed rate            | kmol/h            | N/A                      |\n",
    "| Pump                | Single-stage centrifugal pump| Towler, 2010     | Volumetric flow rate      | L/s               | 0.2 - 126                |\n",
    "| Reactor             | Fluidized Bed                | Ulrich, 2003     | Reactor volume            | m³                | 0.3 - 2400               |\n",
    "|                     | Vertical CS Vessel           | Towler, 2010     | Shell mass                | kg                | 160 - 250,000            |\n",
    "|                     | Horizontal CS Vessel         | Towler, 2010     | Shell mass                | kg                | 160 - 50,000             |\n",
    "|                     | Vertical 304SS Vessel        | Towler, 2010     | Shell mass                | kg                | 120 - 250,000            |\n",
    "|                     | Horizontal 304SS Vessel      | Towler, 2010     | Shell mass                | kg                | 120 - 50,000             |\n",
    "| Turbine             | Condensing steam             | Towler, 2010     | Turbine power             | kW                | 100 - 20,000             |\n",
    "|                     | Axial gas                    | Ulrich, 2003     | Turbine power             | kW                | 10 - 10,000              |\n",
    "|                     | Radial expander              | Ulrich, 2003     | Turbine power             | kW                | 2.5 - 1500               |\n",
    "\n",
    "##### 📝 Some notes\n",
    "\n",
    "Ensure that the value passed to `param` is consistent with the cost correlation being applied.\n",
    "\n",
    "The value of `param` cannot be less than the valid range. However, if it exceeds the valid range, the class will consider an additional number of parallel units."
   ]
  },
  {
   "cell_type": "markdown",
   "id": "2be06ed4",
   "metadata": {},
   "source": [
    "Once you have created the objects for your process plant equipment, you can check the estimated purchase and direct costs of each component as follows"
   ]
  },
  {
   "cell_type": "code",
   "execution_count": 8,
   "id": "b7e011cd",
   "metadata": {},
   "outputs": [
    {
     "name": "stdout",
     "output_type": "stream",
     "text": [
      "Purchase cost of the compressor: $1,431,033.56\n",
      "Direct cost of the compressor: $4,579,307.38\n"
     ]
    }
   ],
   "source": [
    "print(f\"Purchase cost of the compressor: ${comp.purchased_cost:,.2f}\")\n",
    "print(f\"Direct cost of the compressor: ${comp.direct_cost:,.2f}\")"
   ]
  },
  {
   "cell_type": "markdown",
   "id": "e898eef9",
   "metadata": {},
   "source": [
    "### __3. Estimating Fixed Capital Investment__\n",
    "\n",
    "Now we estimate the total fixed capital investment (FCI) of the plant, which consists of:\n",
    "\n",
    "- Inside Battery Limits (ISBL)  \n",
    "- Outside Battery Limits (OSBL)  \n",
    "- Design and engineering costs\n",
    "- Contingency\n",
    "\n",
    "Estimated using the following equation:\n",
    "\n",
    "$$\n",
    "\\text{FCI} = \\text{ISBL} \\cdot (1 + OS) \\cdot (1 + D\\&E + X) \\cdot LF\n",
    "$$\n",
    "\n",
    "Where, ISBL is the total of equipment direct costs and the other are factors are determined based on the user inputs in the plant configuration: `process_type`, `country`, and `region`.\n",
    "\n",
    "- **Process type**: Determines the nature of the plant's operation and influences cost estimation factors. The available types are:  \n",
    "    - `Solids`: OS = 0.4, D\\&E = 0.2, X = 0.1  \n",
    "    - `Fluids`: OS = 0.3, D\\&E = 0.3, X = 0.1  \n",
    "    - `Mixed`: OS = 0.4, D\\&E = 0.25, X = 0.1  \n",
    "\n",
    "- **Country & region**: Determines the location factor (_LF_), which adjusts the estimated capital cost to reflect local economic conditions and construction costs. Available countries and regions are:  \n",
    "\n",
    "    - **United States**\n",
    "        - Gulf Coast: 1.00  \n",
    "        - East Coast: 1.04  \n",
    "        - West Coast: 1.07  \n",
    "        - Midwest: 1.02  \n",
    "    - **Canada** \n",
    "        - Ontario: 1.00  \n",
    "        - Fort McMurray: 1.60  \n",
    "    - **Mexico**: 1.03  \n",
    "    - **Brazil**: 1.14  \n",
    "    - **China**  \n",
    "        - Imported: 1.12  \n",
    "        - Indigenous: 0.61  \n",
    "    - **Japan**: 1.26  \n",
    "    - **Southeast Asia**: 1.12  \n",
    "    - **Australia**: 1.21  \n",
    "    - **India**: 1.02  \n",
    "    - **Middle East**: 1.07  \n",
    "    - **France**: 1.13  \n",
    "    - **Germany**: 1.11  \n",
    "    - **Italy**: 1.14  \n",
    "    - **Netherlands**: 1.19  \n",
    "    - **Russia**: 1.53  \n",
    "    - **United Kingdom**: 1.02  \n",
    "\n",
    "*Note: These factors are based on _Chemical Engineering Design_, 3rd Edition (Towler & Sinnott, 2021).*\n"
   ]
  },
  {
   "cell_type": "markdown",
   "id": "cf6dc1ae",
   "metadata": {},
   "source": [
    "These basic plant inputs are provided in the `config` dictionary as follows:"
   ]
  },
  {
   "cell_type": "code",
   "execution_count": 9,
   "id": "03bcc511",
   "metadata": {},
   "outputs": [],
   "source": [
    "config = {\n",
    "    'process_type': 'Mixed',\n",
    "    'country': 'Netherlands',\n",
    "    'region': None,\n",
    "    # List all the process equipment objects that have been created below\n",
    "    # This is for calculating the ISBL cost\n",
    "    'equipment': [\n",
    "        comp,\n",
    "        motor_comp,\n",
    "        heatX,\n",
    "        cooler,\n",
    "        psa,\n",
    "        reactor\n",
    "    ]\n",
    "}"
   ]
  },
  {
   "cell_type": "markdown",
   "id": "b580af1a",
   "metadata": {},
   "source": [
    "Using function `calculate_fixed_capital`, we calculate the ISBL, OSBL, design and engineering costs, contigency and FCI values:"
   ]
  },
  {
   "cell_type": "code",
   "execution_count": 10,
   "id": "29f016c1",
   "metadata": {},
   "outputs": [
    {
     "name": "stdout",
     "output_type": "stream",
     "text": [
      "Capital Cost Estimation\n",
      "===================================\n",
      "ISBL: $11,087,471.91\n",
      "OSBL: $4,434,988.76\n",
      "Design and Engineering: $3,880,615.17\n",
      "Contingency: $1,552,246.07\n",
      "Fixed Capital Investment: $20,955,321.91\n"
     ]
    }
   ],
   "source": [
    "isbl, osbl, dne, x, fci = calculate_fixed_capital(config)\n",
    "\n",
    "# Print the resultS\n",
    "print(\"Capital Cost Estimation\")\n",
    "print(\"===================================\")\n",
    "print(f\"ISBL: ${isbl:,.2f}\")\n",
    "print(f\"OSBL: ${osbl:,.2f}\")\n",
    "print(f\"Design and Engineering: ${dne:,.2f}\")\n",
    "print(f\"Contingency: ${x:,.2f}\")\n",
    "print(f\"Fixed Capital Investment: ${fci:,.2f}\")"
   ]
  },
  {
   "cell_type": "markdown",
   "id": "2ed67f73",
   "metadata": {},
   "source": [
    "### __4. Estimating Fixed Production Costs__\n",
    "\n",
    "The function `calculate_fixed_opex` calculates the fixed portion of the operating expenses, which includes:\n",
    "- Maintenance\n",
    "- Taxes and insurance\n",
    "- Operating labor\n",
    "- Supervision and overhead\n",
    "- et cetera.\n",
    "\n",
    "In addition to fixed capital investment, the fixed production costs are estimated based on the plant's working capital, variable opex, interest rate and operator's hourly rate.\n",
    "\n",
    "*Note, this is mainly calculated based on _Analysis, Synthesis, and Design of Chemical Processes_, 5th Edition (Turton et al., 2018)\n",
    "\n",
    "Therefore, we first need to update our plant `config` dictionary with these financial parameters:"
   ]
  },
  {
   "cell_type": "code",
   "execution_count": 6,
   "id": "346bc623",
   "metadata": {},
   "outputs": [],
   "source": [
    "config.update({\n",
    "    'working_capital': 0.15*config['fixed_capital'],  # Common assumption for working capital: 15% of the fixed capital\n",
    "    'interest_rate': 0.09,  # The annual interest rate used for financing, here set at 9%.\n",
    "    'variable_opex': 5000000,  # This is the annual value (in US$/Year). This depends solely on your process\n",
    "    'operator_hourly_rate': 38.11  # The hourly rate of 1 process plant operator (in US$/hour)\n",
    "})"
   ]
  },
  {
   "cell_type": "markdown",
   "id": "166f2a04",
   "metadata": {},
   "source": [
    "Now we can use the `calculate_fixed_opex` function:"
   ]
  },
  {
   "cell_type": "code",
   "execution_count": 7,
   "id": "6af06f12",
   "metadata": {},
   "outputs": [
    {
     "name": "stdout",
     "output_type": "stream",
     "text": [
      "Operating Cost Estimation\n",
      "===================================\n",
      "Variable OPEX: $5,000,000.00\n",
      "Fixed OPEX: $9,162,457.33\n"
     ]
    }
   ],
   "source": [
    "fixed_production_costs = calculate_fixed_opex(config)\n",
    "\n",
    "# Print the results\n",
    "print(\"Operating Cost Estimation\")\n",
    "print(\"===================================\")\n",
    "print(f\"Variable OPEX: ${config['variable_opex']:,.2f}\")\n",
    "print(f\"Fixed OPEX: ${fixed_production_costs:,.2f}\")"
   ]
  },
  {
   "cell_type": "markdown",
   "id": "307b9017",
   "metadata": {},
   "source": [
    "### __5. Calculating Economic Performance Metrics__\n",
    "\n",
    "Once we have the total CAPEX (i.e., Fixed Capital Investment or FCI) and OPEX (i.e., variable and fixed operating costs), we can calculate the key economic performance metrics.\n",
    "\n",
    "This code covers the following metrics:\n",
    "- __Net-present value (NPV)__\n",
    "- __Internal rate of return (IRR)__\n",
    "- __Payback time (PBT)__\n",
    "- __Return of investment (ROI)__\n",
    "- __Levelized cost__\n",
    "\n",
    "The first step in calculating the metrics is to create the cash flow for the process plant throughout its lifetime.\n",
    "\n",
    "To do this, we need the following inputs in our plant config dictionary:\n",
    "- Project lifetime (in years, minimum of 3 years)\n",
    "- Annual production of the product (e.g. MWh/year of electricity, kg/year of H2)\n",
    "- Price of product in US$/unit (ensure that the unit matches the one used for annual production)\n",
    "- Income tax rate"
   ]
  },
  {
   "cell_type": "code",
   "execution_count": 8,
   "id": "8e8f68cd",
   "metadata": {},
   "outputs": [],
   "source": [
    "config.update({\n",
    "    'project_lifetime': 20,  # in years\n",
    "    'annual_prod': 10000000,  # in unit per year\n",
    "    'product_price': 2,  # in currency per unit\n",
    "    'tax_rate': 0.3,  # assuming 30% tax rate\n",
    "})"
   ]
  },
  {
   "cell_type": "markdown",
   "id": "94a1dcab",
   "metadata": {},
   "source": [
    "To create the process plant cash flow table, we use the function `create_cash_flow_table` as follows:"
   ]
  },
  {
   "cell_type": "code",
   "execution_count": 9,
   "id": "2378c9e6",
   "metadata": {},
   "outputs": [
    {
     "name": "stdout",
     "output_type": "stream",
     "text": [
      "Cash Flow Table\n",
      "================\n"
     ]
    },
    {
     "data": {
      "text/html": [
       "<style type=\"text/css\">\n",
       "</style>\n",
       "<table id=\"T_c1330\">\n",
       "  <thead>\n",
       "    <tr>\n",
       "      <th class=\"blank level0\" >&nbsp;</th>\n",
       "      <th id=\"T_c1330_level0_col0\" class=\"col_heading level0 col0\" >Year</th>\n",
       "      <th id=\"T_c1330_level0_col1\" class=\"col_heading level0 col1\" >Capital cost</th>\n",
       "      <th id=\"T_c1330_level0_col2\" class=\"col_heading level0 col2\" >Production [unit]</th>\n",
       "      <th id=\"T_c1330_level0_col3\" class=\"col_heading level0 col3\" >Revenue</th>\n",
       "      <th id=\"T_c1330_level0_col4\" class=\"col_heading level0 col4\" >Cash cost of prod.</th>\n",
       "      <th id=\"T_c1330_level0_col5\" class=\"col_heading level0 col5\" >Gross profit</th>\n",
       "      <th id=\"T_c1330_level0_col6\" class=\"col_heading level0 col6\" >Depreciation</th>\n",
       "      <th id=\"T_c1330_level0_col7\" class=\"col_heading level0 col7\" >Taxable income</th>\n",
       "      <th id=\"T_c1330_level0_col8\" class=\"col_heading level0 col8\" >Tax paid</th>\n",
       "      <th id=\"T_c1330_level0_col9\" class=\"col_heading level0 col9\" >Cash flow</th>\n",
       "      <th id=\"T_c1330_level0_col10\" class=\"col_heading level0 col10\" >PV of cash flow</th>\n",
       "      <th id=\"T_c1330_level0_col11\" class=\"col_heading level0 col11\" >NPV</th>\n",
       "    </tr>\n",
       "  </thead>\n",
       "  <tbody>\n",
       "    <tr>\n",
       "      <th id=\"T_c1330_level0_row0\" class=\"row_heading level0 row0\" >0</th>\n",
       "      <td id=\"T_c1330_row0_col0\" class=\"data row0 col0\" >1</td>\n",
       "      <td id=\"T_c1330_row0_col1\" class=\"data row0 col1\" >$6,286,596.57</td>\n",
       "      <td id=\"T_c1330_row0_col2\" class=\"data row0 col2\" >$0.00</td>\n",
       "      <td id=\"T_c1330_row0_col3\" class=\"data row0 col3\" >$0.00</td>\n",
       "      <td id=\"T_c1330_row0_col4\" class=\"data row0 col4\" >$0.00</td>\n",
       "      <td id=\"T_c1330_row0_col5\" class=\"data row0 col5\" >$0.00</td>\n",
       "      <td id=\"T_c1330_row0_col6\" class=\"data row0 col6\" >$0.00</td>\n",
       "      <td id=\"T_c1330_row0_col7\" class=\"data row0 col7\" >$0.00</td>\n",
       "      <td id=\"T_c1330_row0_col8\" class=\"data row0 col8\" >$0.00</td>\n",
       "      <td id=\"T_c1330_row0_col9\" class=\"data row0 col9\" >$-6,286,596.57</td>\n",
       "      <td id=\"T_c1330_row0_col10\" class=\"data row0 col10\" >$-5,767,519.79</td>\n",
       "      <td id=\"T_c1330_row0_col11\" class=\"data row0 col11\" >$-5,767,519.79</td>\n",
       "    </tr>\n",
       "    <tr>\n",
       "      <th id=\"T_c1330_level0_row1\" class=\"row_heading level0 row1\" >1</th>\n",
       "      <td id=\"T_c1330_row1_col0\" class=\"data row1 col0\" >2</td>\n",
       "      <td id=\"T_c1330_row1_col1\" class=\"data row1 col1\" >$12,573,193.15</td>\n",
       "      <td id=\"T_c1330_row1_col2\" class=\"data row1 col2\" >$0.00</td>\n",
       "      <td id=\"T_c1330_row1_col3\" class=\"data row1 col3\" >$0.00</td>\n",
       "      <td id=\"T_c1330_row1_col4\" class=\"data row1 col4\" >$0.00</td>\n",
       "      <td id=\"T_c1330_row1_col5\" class=\"data row1 col5\" >$0.00</td>\n",
       "      <td id=\"T_c1330_row1_col6\" class=\"data row1 col6\" >$0.00</td>\n",
       "      <td id=\"T_c1330_row1_col7\" class=\"data row1 col7\" >$0.00</td>\n",
       "      <td id=\"T_c1330_row1_col8\" class=\"data row1 col8\" >$0.00</td>\n",
       "      <td id=\"T_c1330_row1_col9\" class=\"data row1 col9\" >$-12,573,193.15</td>\n",
       "      <td id=\"T_c1330_row1_col10\" class=\"data row1 col10\" >$-10,582,605.12</td>\n",
       "      <td id=\"T_c1330_row1_col11\" class=\"data row1 col11\" >$-16,350,124.92</td>\n",
       "    </tr>\n",
       "    <tr>\n",
       "      <th id=\"T_c1330_level0_row2\" class=\"row_heading level0 row2\" >2</th>\n",
       "      <td id=\"T_c1330_row2_col0\" class=\"data row2 col0\" >3</td>\n",
       "      <td id=\"T_c1330_row2_col1\" class=\"data row2 col1\" >$5,238,830.48</td>\n",
       "      <td id=\"T_c1330_row2_col2\" class=\"data row2 col2\" >$4,000,000.00</td>\n",
       "      <td id=\"T_c1330_row2_col3\" class=\"data row2 col3\" >$8,000,000.00</td>\n",
       "      <td id=\"T_c1330_row2_col4\" class=\"data row2 col4\" >$11,162,457.33</td>\n",
       "      <td id=\"T_c1330_row2_col5\" class=\"data row2 col5\" >$-3,162,457.33</td>\n",
       "      <td id=\"T_c1330_row2_col6\" class=\"data row2 col6\" >$0.00</td>\n",
       "      <td id=\"T_c1330_row2_col7\" class=\"data row2 col7\" >$-3,162,457.33</td>\n",
       "      <td id=\"T_c1330_row2_col8\" class=\"data row2 col8\" >$0.00</td>\n",
       "      <td id=\"T_c1330_row2_col9\" class=\"data row2 col9\" >$-8,401,287.81</td>\n",
       "      <td id=\"T_c1330_row2_col10\" class=\"data row2 col10\" >$-6,487,335.65</td>\n",
       "      <td id=\"T_c1330_row2_col11\" class=\"data row2 col11\" >$-22,837,460.57</td>\n",
       "    </tr>\n",
       "    <tr>\n",
       "      <th id=\"T_c1330_level0_row3\" class=\"row_heading level0 row3\" >3</th>\n",
       "      <td id=\"T_c1330_row3_col0\" class=\"data row3 col0\" >4</td>\n",
       "      <td id=\"T_c1330_row3_col1\" class=\"data row3 col1\" >$0.00</td>\n",
       "      <td id=\"T_c1330_row3_col2\" class=\"data row3 col2\" >$8,000,000.00</td>\n",
       "      <td id=\"T_c1330_row3_col3\" class=\"data row3 col3\" >$16,000,000.00</td>\n",
       "      <td id=\"T_c1330_row3_col4\" class=\"data row3 col4\" >$13,162,457.33</td>\n",
       "      <td id=\"T_c1330_row3_col5\" class=\"data row3 col5\" >$2,837,542.67</td>\n",
       "      <td id=\"T_c1330_row3_col6\" class=\"data row3 col6\" >$2,095,532.19</td>\n",
       "      <td id=\"T_c1330_row3_col7\" class=\"data row3 col7\" >$742,010.48</td>\n",
       "      <td id=\"T_c1330_row3_col8\" class=\"data row3 col8\" >$0.00</td>\n",
       "      <td id=\"T_c1330_row3_col9\" class=\"data row3 col9\" >$2,837,542.67</td>\n",
       "      <td id=\"T_c1330_row3_col10\" class=\"data row3 col10\" >$2,010,186.77</td>\n",
       "      <td id=\"T_c1330_row3_col11\" class=\"data row3 col11\" >$-20,827,273.80</td>\n",
       "    </tr>\n",
       "    <tr>\n",
       "      <th id=\"T_c1330_level0_row4\" class=\"row_heading level0 row4\" >4</th>\n",
       "      <td id=\"T_c1330_row4_col0\" class=\"data row4 col0\" >5</td>\n",
       "      <td id=\"T_c1330_row4_col1\" class=\"data row4 col1\" >$0.00</td>\n",
       "      <td id=\"T_c1330_row4_col2\" class=\"data row4 col2\" >$10,000,000.00</td>\n",
       "      <td id=\"T_c1330_row4_col3\" class=\"data row4 col3\" >$20,000,000.00</td>\n",
       "      <td id=\"T_c1330_row4_col4\" class=\"data row4 col4\" >$14,162,457.33</td>\n",
       "      <td id=\"T_c1330_row4_col5\" class=\"data row4 col5\" >$5,837,542.67</td>\n",
       "      <td id=\"T_c1330_row4_col6\" class=\"data row4 col6\" >$2,095,532.19</td>\n",
       "      <td id=\"T_c1330_row4_col7\" class=\"data row4 col7\" >$3,742,010.48</td>\n",
       "      <td id=\"T_c1330_row4_col8\" class=\"data row4 col8\" >$222,603.14</td>\n",
       "      <td id=\"T_c1330_row4_col9\" class=\"data row4 col9\" >$5,614,939.53</td>\n",
       "      <td id=\"T_c1330_row4_col10\" class=\"data row4 col10\" >$3,649,325.43</td>\n",
       "      <td id=\"T_c1330_row4_col11\" class=\"data row4 col11\" >$-17,177,948.37</td>\n",
       "    </tr>\n",
       "    <tr>\n",
       "      <th id=\"T_c1330_level0_row5\" class=\"row_heading level0 row5\" >5</th>\n",
       "      <td id=\"T_c1330_row5_col0\" class=\"data row5 col0\" >6</td>\n",
       "      <td id=\"T_c1330_row5_col1\" class=\"data row5 col1\" >$0.00</td>\n",
       "      <td id=\"T_c1330_row5_col2\" class=\"data row5 col2\" >$10,000,000.00</td>\n",
       "      <td id=\"T_c1330_row5_col3\" class=\"data row5 col3\" >$20,000,000.00</td>\n",
       "      <td id=\"T_c1330_row5_col4\" class=\"data row5 col4\" >$14,162,457.33</td>\n",
       "      <td id=\"T_c1330_row5_col5\" class=\"data row5 col5\" >$5,837,542.67</td>\n",
       "      <td id=\"T_c1330_row5_col6\" class=\"data row5 col6\" >$2,095,532.19</td>\n",
       "      <td id=\"T_c1330_row5_col7\" class=\"data row5 col7\" >$3,742,010.48</td>\n",
       "      <td id=\"T_c1330_row5_col8\" class=\"data row5 col8\" >$1,122,603.14</td>\n",
       "      <td id=\"T_c1330_row5_col9\" class=\"data row5 col9\" >$4,714,939.53</td>\n",
       "      <td id=\"T_c1330_row5_col10\" class=\"data row5 col10\" >$2,811,364.39</td>\n",
       "      <td id=\"T_c1330_row5_col11\" class=\"data row5 col11\" >$-14,366,583.98</td>\n",
       "    </tr>\n",
       "    <tr>\n",
       "      <th id=\"T_c1330_level0_row6\" class=\"row_heading level0 row6\" >6</th>\n",
       "      <td id=\"T_c1330_row6_col0\" class=\"data row6 col0\" >7</td>\n",
       "      <td id=\"T_c1330_row6_col1\" class=\"data row6 col1\" >$0.00</td>\n",
       "      <td id=\"T_c1330_row6_col2\" class=\"data row6 col2\" >$10,000,000.00</td>\n",
       "      <td id=\"T_c1330_row6_col3\" class=\"data row6 col3\" >$20,000,000.00</td>\n",
       "      <td id=\"T_c1330_row6_col4\" class=\"data row6 col4\" >$14,162,457.33</td>\n",
       "      <td id=\"T_c1330_row6_col5\" class=\"data row6 col5\" >$5,837,542.67</td>\n",
       "      <td id=\"T_c1330_row6_col6\" class=\"data row6 col6\" >$2,095,532.19</td>\n",
       "      <td id=\"T_c1330_row6_col7\" class=\"data row6 col7\" >$3,742,010.48</td>\n",
       "      <td id=\"T_c1330_row6_col8\" class=\"data row6 col8\" >$1,122,603.14</td>\n",
       "      <td id=\"T_c1330_row6_col9\" class=\"data row6 col9\" >$4,714,939.53</td>\n",
       "      <td id=\"T_c1330_row6_col10\" class=\"data row6 col10\" >$2,579,233.38</td>\n",
       "      <td id=\"T_c1330_row6_col11\" class=\"data row6 col11\" >$-11,787,350.60</td>\n",
       "    </tr>\n",
       "    <tr>\n",
       "      <th id=\"T_c1330_level0_row7\" class=\"row_heading level0 row7\" >7</th>\n",
       "      <td id=\"T_c1330_row7_col0\" class=\"data row7 col0\" >8</td>\n",
       "      <td id=\"T_c1330_row7_col1\" class=\"data row7 col1\" >$0.00</td>\n",
       "      <td id=\"T_c1330_row7_col2\" class=\"data row7 col2\" >$10,000,000.00</td>\n",
       "      <td id=\"T_c1330_row7_col3\" class=\"data row7 col3\" >$20,000,000.00</td>\n",
       "      <td id=\"T_c1330_row7_col4\" class=\"data row7 col4\" >$14,162,457.33</td>\n",
       "      <td id=\"T_c1330_row7_col5\" class=\"data row7 col5\" >$5,837,542.67</td>\n",
       "      <td id=\"T_c1330_row7_col6\" class=\"data row7 col6\" >$2,095,532.19</td>\n",
       "      <td id=\"T_c1330_row7_col7\" class=\"data row7 col7\" >$3,742,010.48</td>\n",
       "      <td id=\"T_c1330_row7_col8\" class=\"data row7 col8\" >$1,122,603.14</td>\n",
       "      <td id=\"T_c1330_row7_col9\" class=\"data row7 col9\" >$4,714,939.53</td>\n",
       "      <td id=\"T_c1330_row7_col10\" class=\"data row7 col10\" >$2,366,269.16</td>\n",
       "      <td id=\"T_c1330_row7_col11\" class=\"data row7 col11\" >$-9,421,081.44</td>\n",
       "    </tr>\n",
       "    <tr>\n",
       "      <th id=\"T_c1330_level0_row8\" class=\"row_heading level0 row8\" >8</th>\n",
       "      <td id=\"T_c1330_row8_col0\" class=\"data row8 col0\" >9</td>\n",
       "      <td id=\"T_c1330_row8_col1\" class=\"data row8 col1\" >$0.00</td>\n",
       "      <td id=\"T_c1330_row8_col2\" class=\"data row8 col2\" >$10,000,000.00</td>\n",
       "      <td id=\"T_c1330_row8_col3\" class=\"data row8 col3\" >$20,000,000.00</td>\n",
       "      <td id=\"T_c1330_row8_col4\" class=\"data row8 col4\" >$14,162,457.33</td>\n",
       "      <td id=\"T_c1330_row8_col5\" class=\"data row8 col5\" >$5,837,542.67</td>\n",
       "      <td id=\"T_c1330_row8_col6\" class=\"data row8 col6\" >$2,095,532.19</td>\n",
       "      <td id=\"T_c1330_row8_col7\" class=\"data row8 col7\" >$3,742,010.48</td>\n",
       "      <td id=\"T_c1330_row8_col8\" class=\"data row8 col8\" >$1,122,603.14</td>\n",
       "      <td id=\"T_c1330_row8_col9\" class=\"data row8 col9\" >$4,714,939.53</td>\n",
       "      <td id=\"T_c1330_row8_col10\" class=\"data row8 col10\" >$2,170,889.14</td>\n",
       "      <td id=\"T_c1330_row8_col11\" class=\"data row8 col11\" >$-7,250,192.30</td>\n",
       "    </tr>\n",
       "    <tr>\n",
       "      <th id=\"T_c1330_level0_row9\" class=\"row_heading level0 row9\" >9</th>\n",
       "      <td id=\"T_c1330_row9_col0\" class=\"data row9 col0\" >10</td>\n",
       "      <td id=\"T_c1330_row9_col1\" class=\"data row9 col1\" >$0.00</td>\n",
       "      <td id=\"T_c1330_row9_col2\" class=\"data row9 col2\" >$10,000,000.00</td>\n",
       "      <td id=\"T_c1330_row9_col3\" class=\"data row9 col3\" >$20,000,000.00</td>\n",
       "      <td id=\"T_c1330_row9_col4\" class=\"data row9 col4\" >$14,162,457.33</td>\n",
       "      <td id=\"T_c1330_row9_col5\" class=\"data row9 col5\" >$5,837,542.67</td>\n",
       "      <td id=\"T_c1330_row9_col6\" class=\"data row9 col6\" >$2,095,532.19</td>\n",
       "      <td id=\"T_c1330_row9_col7\" class=\"data row9 col7\" >$3,742,010.48</td>\n",
       "      <td id=\"T_c1330_row9_col8\" class=\"data row9 col8\" >$1,122,603.14</td>\n",
       "      <td id=\"T_c1330_row9_col9\" class=\"data row9 col9\" >$4,714,939.53</td>\n",
       "      <td id=\"T_c1330_row9_col10\" class=\"data row9 col10\" >$1,991,641.41</td>\n",
       "      <td id=\"T_c1330_row9_col11\" class=\"data row9 col11\" >$-5,258,550.89</td>\n",
       "    </tr>\n",
       "    <tr>\n",
       "      <th id=\"T_c1330_level0_row10\" class=\"row_heading level0 row10\" >10</th>\n",
       "      <td id=\"T_c1330_row10_col0\" class=\"data row10 col0\" >11</td>\n",
       "      <td id=\"T_c1330_row10_col1\" class=\"data row10 col1\" >$0.00</td>\n",
       "      <td id=\"T_c1330_row10_col2\" class=\"data row10 col2\" >$10,000,000.00</td>\n",
       "      <td id=\"T_c1330_row10_col3\" class=\"data row10 col3\" >$20,000,000.00</td>\n",
       "      <td id=\"T_c1330_row10_col4\" class=\"data row10 col4\" >$14,162,457.33</td>\n",
       "      <td id=\"T_c1330_row10_col5\" class=\"data row10 col5\" >$5,837,542.67</td>\n",
       "      <td id=\"T_c1330_row10_col6\" class=\"data row10 col6\" >$2,095,532.19</td>\n",
       "      <td id=\"T_c1330_row10_col7\" class=\"data row10 col7\" >$3,742,010.48</td>\n",
       "      <td id=\"T_c1330_row10_col8\" class=\"data row10 col8\" >$1,122,603.14</td>\n",
       "      <td id=\"T_c1330_row10_col9\" class=\"data row10 col9\" >$4,714,939.53</td>\n",
       "      <td id=\"T_c1330_row10_col10\" class=\"data row10 col10\" >$1,827,193.95</td>\n",
       "      <td id=\"T_c1330_row10_col11\" class=\"data row10 col11\" >$-3,431,356.93</td>\n",
       "    </tr>\n",
       "    <tr>\n",
       "      <th id=\"T_c1330_level0_row11\" class=\"row_heading level0 row11\" >11</th>\n",
       "      <td id=\"T_c1330_row11_col0\" class=\"data row11 col0\" >12</td>\n",
       "      <td id=\"T_c1330_row11_col1\" class=\"data row11 col1\" >$0.00</td>\n",
       "      <td id=\"T_c1330_row11_col2\" class=\"data row11 col2\" >$10,000,000.00</td>\n",
       "      <td id=\"T_c1330_row11_col3\" class=\"data row11 col3\" >$20,000,000.00</td>\n",
       "      <td id=\"T_c1330_row11_col4\" class=\"data row11 col4\" >$14,162,457.33</td>\n",
       "      <td id=\"T_c1330_row11_col5\" class=\"data row11 col5\" >$5,837,542.67</td>\n",
       "      <td id=\"T_c1330_row11_col6\" class=\"data row11 col6\" >$2,095,532.19</td>\n",
       "      <td id=\"T_c1330_row11_col7\" class=\"data row11 col7\" >$3,742,010.48</td>\n",
       "      <td id=\"T_c1330_row11_col8\" class=\"data row11 col8\" >$1,122,603.14</td>\n",
       "      <td id=\"T_c1330_row11_col9\" class=\"data row11 col9\" >$4,714,939.53</td>\n",
       "      <td id=\"T_c1330_row11_col10\" class=\"data row11 col10\" >$1,676,324.73</td>\n",
       "      <td id=\"T_c1330_row11_col11\" class=\"data row11 col11\" >$-1,755,032.21</td>\n",
       "    </tr>\n",
       "    <tr>\n",
       "      <th id=\"T_c1330_level0_row12\" class=\"row_heading level0 row12\" >12</th>\n",
       "      <td id=\"T_c1330_row12_col0\" class=\"data row12 col0\" >13</td>\n",
       "      <td id=\"T_c1330_row12_col1\" class=\"data row12 col1\" >$0.00</td>\n",
       "      <td id=\"T_c1330_row12_col2\" class=\"data row12 col2\" >$10,000,000.00</td>\n",
       "      <td id=\"T_c1330_row12_col3\" class=\"data row12 col3\" >$20,000,000.00</td>\n",
       "      <td id=\"T_c1330_row12_col4\" class=\"data row12 col4\" >$14,162,457.33</td>\n",
       "      <td id=\"T_c1330_row12_col5\" class=\"data row12 col5\" >$5,837,542.67</td>\n",
       "      <td id=\"T_c1330_row12_col6\" class=\"data row12 col6\" >$2,095,532.19</td>\n",
       "      <td id=\"T_c1330_row12_col7\" class=\"data row12 col7\" >$3,742,010.48</td>\n",
       "      <td id=\"T_c1330_row12_col8\" class=\"data row12 col8\" >$1,122,603.14</td>\n",
       "      <td id=\"T_c1330_row12_col9\" class=\"data row12 col9\" >$4,714,939.53</td>\n",
       "      <td id=\"T_c1330_row12_col10\" class=\"data row12 col10\" >$1,537,912.60</td>\n",
       "      <td id=\"T_c1330_row12_col11\" class=\"data row12 col11\" >$-217,119.61</td>\n",
       "    </tr>\n",
       "    <tr>\n",
       "      <th id=\"T_c1330_level0_row13\" class=\"row_heading level0 row13\" >13</th>\n",
       "      <td id=\"T_c1330_row13_col0\" class=\"data row13 col0\" >14</td>\n",
       "      <td id=\"T_c1330_row13_col1\" class=\"data row13 col1\" >$0.00</td>\n",
       "      <td id=\"T_c1330_row13_col2\" class=\"data row13 col2\" >$10,000,000.00</td>\n",
       "      <td id=\"T_c1330_row13_col3\" class=\"data row13 col3\" >$20,000,000.00</td>\n",
       "      <td id=\"T_c1330_row13_col4\" class=\"data row13 col4\" >$14,162,457.33</td>\n",
       "      <td id=\"T_c1330_row13_col5\" class=\"data row13 col5\" >$5,837,542.67</td>\n",
       "      <td id=\"T_c1330_row13_col6\" class=\"data row13 col6\" >$0.00</td>\n",
       "      <td id=\"T_c1330_row13_col7\" class=\"data row13 col7\" >$5,837,542.67</td>\n",
       "      <td id=\"T_c1330_row13_col8\" class=\"data row13 col8\" >$1,122,603.14</td>\n",
       "      <td id=\"T_c1330_row13_col9\" class=\"data row13 col9\" >$4,714,939.53</td>\n",
       "      <td id=\"T_c1330_row13_col10\" class=\"data row13 col10\" >$1,410,928.99</td>\n",
       "      <td id=\"T_c1330_row13_col11\" class=\"data row13 col11\" >$1,193,809.38</td>\n",
       "    </tr>\n",
       "    <tr>\n",
       "      <th id=\"T_c1330_level0_row14\" class=\"row_heading level0 row14\" >14</th>\n",
       "      <td id=\"T_c1330_row14_col0\" class=\"data row14 col0\" >15</td>\n",
       "      <td id=\"T_c1330_row14_col1\" class=\"data row14 col1\" >$0.00</td>\n",
       "      <td id=\"T_c1330_row14_col2\" class=\"data row14 col2\" >$10,000,000.00</td>\n",
       "      <td id=\"T_c1330_row14_col3\" class=\"data row14 col3\" >$20,000,000.00</td>\n",
       "      <td id=\"T_c1330_row14_col4\" class=\"data row14 col4\" >$14,162,457.33</td>\n",
       "      <td id=\"T_c1330_row14_col5\" class=\"data row14 col5\" >$5,837,542.67</td>\n",
       "      <td id=\"T_c1330_row14_col6\" class=\"data row14 col6\" >$0.00</td>\n",
       "      <td id=\"T_c1330_row14_col7\" class=\"data row14 col7\" >$5,837,542.67</td>\n",
       "      <td id=\"T_c1330_row14_col8\" class=\"data row14 col8\" >$1,751,262.80</td>\n",
       "      <td id=\"T_c1330_row14_col9\" class=\"data row14 col9\" >$4,086,279.87</td>\n",
       "      <td id=\"T_c1330_row14_col10\" class=\"data row14 col10\" >$1,121,839.27</td>\n",
       "      <td id=\"T_c1330_row14_col11\" class=\"data row14 col11\" >$2,315,648.65</td>\n",
       "    </tr>\n",
       "    <tr>\n",
       "      <th id=\"T_c1330_level0_row15\" class=\"row_heading level0 row15\" >15</th>\n",
       "      <td id=\"T_c1330_row15_col0\" class=\"data row15 col0\" >16</td>\n",
       "      <td id=\"T_c1330_row15_col1\" class=\"data row15 col1\" >$0.00</td>\n",
       "      <td id=\"T_c1330_row15_col2\" class=\"data row15 col2\" >$10,000,000.00</td>\n",
       "      <td id=\"T_c1330_row15_col3\" class=\"data row15 col3\" >$20,000,000.00</td>\n",
       "      <td id=\"T_c1330_row15_col4\" class=\"data row15 col4\" >$14,162,457.33</td>\n",
       "      <td id=\"T_c1330_row15_col5\" class=\"data row15 col5\" >$5,837,542.67</td>\n",
       "      <td id=\"T_c1330_row15_col6\" class=\"data row15 col6\" >$0.00</td>\n",
       "      <td id=\"T_c1330_row15_col7\" class=\"data row15 col7\" >$5,837,542.67</td>\n",
       "      <td id=\"T_c1330_row15_col8\" class=\"data row15 col8\" >$1,751,262.80</td>\n",
       "      <td id=\"T_c1330_row15_col9\" class=\"data row15 col9\" >$4,086,279.87</td>\n",
       "      <td id=\"T_c1330_row15_col10\" class=\"data row15 col10\" >$1,029,210.34</td>\n",
       "      <td id=\"T_c1330_row15_col11\" class=\"data row15 col11\" >$3,344,858.99</td>\n",
       "    </tr>\n",
       "    <tr>\n",
       "      <th id=\"T_c1330_level0_row16\" class=\"row_heading level0 row16\" >16</th>\n",
       "      <td id=\"T_c1330_row16_col0\" class=\"data row16 col0\" >17</td>\n",
       "      <td id=\"T_c1330_row16_col1\" class=\"data row16 col1\" >$0.00</td>\n",
       "      <td id=\"T_c1330_row16_col2\" class=\"data row16 col2\" >$10,000,000.00</td>\n",
       "      <td id=\"T_c1330_row16_col3\" class=\"data row16 col3\" >$20,000,000.00</td>\n",
       "      <td id=\"T_c1330_row16_col4\" class=\"data row16 col4\" >$14,162,457.33</td>\n",
       "      <td id=\"T_c1330_row16_col5\" class=\"data row16 col5\" >$5,837,542.67</td>\n",
       "      <td id=\"T_c1330_row16_col6\" class=\"data row16 col6\" >$0.00</td>\n",
       "      <td id=\"T_c1330_row16_col7\" class=\"data row16 col7\" >$5,837,542.67</td>\n",
       "      <td id=\"T_c1330_row16_col8\" class=\"data row16 col8\" >$1,751,262.80</td>\n",
       "      <td id=\"T_c1330_row16_col9\" class=\"data row16 col9\" >$4,086,279.87</td>\n",
       "      <td id=\"T_c1330_row16_col10\" class=\"data row16 col10\" >$944,229.67</td>\n",
       "      <td id=\"T_c1330_row16_col11\" class=\"data row16 col11\" >$4,289,088.66</td>\n",
       "    </tr>\n",
       "    <tr>\n",
       "      <th id=\"T_c1330_level0_row17\" class=\"row_heading level0 row17\" >17</th>\n",
       "      <td id=\"T_c1330_row17_col0\" class=\"data row17 col0\" >18</td>\n",
       "      <td id=\"T_c1330_row17_col1\" class=\"data row17 col1\" >$0.00</td>\n",
       "      <td id=\"T_c1330_row17_col2\" class=\"data row17 col2\" >$10,000,000.00</td>\n",
       "      <td id=\"T_c1330_row17_col3\" class=\"data row17 col3\" >$20,000,000.00</td>\n",
       "      <td id=\"T_c1330_row17_col4\" class=\"data row17 col4\" >$14,162,457.33</td>\n",
       "      <td id=\"T_c1330_row17_col5\" class=\"data row17 col5\" >$5,837,542.67</td>\n",
       "      <td id=\"T_c1330_row17_col6\" class=\"data row17 col6\" >$0.00</td>\n",
       "      <td id=\"T_c1330_row17_col7\" class=\"data row17 col7\" >$5,837,542.67</td>\n",
       "      <td id=\"T_c1330_row17_col8\" class=\"data row17 col8\" >$1,751,262.80</td>\n",
       "      <td id=\"T_c1330_row17_col9\" class=\"data row17 col9\" >$4,086,279.87</td>\n",
       "      <td id=\"T_c1330_row17_col10\" class=\"data row17 col10\" >$866,265.75</td>\n",
       "      <td id=\"T_c1330_row17_col11\" class=\"data row17 col11\" >$5,155,354.41</td>\n",
       "    </tr>\n",
       "    <tr>\n",
       "      <th id=\"T_c1330_level0_row18\" class=\"row_heading level0 row18\" >18</th>\n",
       "      <td id=\"T_c1330_row18_col0\" class=\"data row18 col0\" >19</td>\n",
       "      <td id=\"T_c1330_row18_col1\" class=\"data row18 col1\" >$0.00</td>\n",
       "      <td id=\"T_c1330_row18_col2\" class=\"data row18 col2\" >$10,000,000.00</td>\n",
       "      <td id=\"T_c1330_row18_col3\" class=\"data row18 col3\" >$20,000,000.00</td>\n",
       "      <td id=\"T_c1330_row18_col4\" class=\"data row18 col4\" >$14,162,457.33</td>\n",
       "      <td id=\"T_c1330_row18_col5\" class=\"data row18 col5\" >$5,837,542.67</td>\n",
       "      <td id=\"T_c1330_row18_col6\" class=\"data row18 col6\" >$0.00</td>\n",
       "      <td id=\"T_c1330_row18_col7\" class=\"data row18 col7\" >$5,837,542.67</td>\n",
       "      <td id=\"T_c1330_row18_col8\" class=\"data row18 col8\" >$1,751,262.80</td>\n",
       "      <td id=\"T_c1330_row18_col9\" class=\"data row18 col9\" >$4,086,279.87</td>\n",
       "      <td id=\"T_c1330_row18_col10\" class=\"data row18 col10\" >$794,739.22</td>\n",
       "      <td id=\"T_c1330_row18_col11\" class=\"data row18 col11\" >$5,950,093.64</td>\n",
       "    </tr>\n",
       "    <tr>\n",
       "      <th id=\"T_c1330_level0_row19\" class=\"row_heading level0 row19\" >19</th>\n",
       "      <td id=\"T_c1330_row19_col0\" class=\"data row19 col0\" >20</td>\n",
       "      <td id=\"T_c1330_row19_col1\" class=\"data row19 col1\" >$-3,143,298.29</td>\n",
       "      <td id=\"T_c1330_row19_col2\" class=\"data row19 col2\" >$10,000,000.00</td>\n",
       "      <td id=\"T_c1330_row19_col3\" class=\"data row19 col3\" >$20,000,000.00</td>\n",
       "      <td id=\"T_c1330_row19_col4\" class=\"data row19 col4\" >$14,162,457.33</td>\n",
       "      <td id=\"T_c1330_row19_col5\" class=\"data row19 col5\" >$5,837,542.67</td>\n",
       "      <td id=\"T_c1330_row19_col6\" class=\"data row19 col6\" >$0.00</td>\n",
       "      <td id=\"T_c1330_row19_col7\" class=\"data row19 col7\" >$5,837,542.67</td>\n",
       "      <td id=\"T_c1330_row19_col8\" class=\"data row19 col8\" >$1,751,262.80</td>\n",
       "      <td id=\"T_c1330_row19_col9\" class=\"data row19 col9\" >$7,229,578.16</td>\n",
       "      <td id=\"T_c1330_row19_col10\" class=\"data row19 col10\" >$1,289,980.06</td>\n",
       "      <td id=\"T_c1330_row19_col11\" class=\"data row19 col11\" >$7,240,073.70</td>\n",
       "    </tr>\n",
       "  </tbody>\n",
       "</table>\n"
      ],
      "text/plain": [
       "<pandas.io.formats.style.Styler at 0x2118bbcb7a0>"
      ]
     },
     "execution_count": 9,
     "metadata": {},
     "output_type": "execute_result"
    }
   ],
   "source": [
    "print(\"Cash Flow Table\")\n",
    "print(\"================\")\n",
    "create_cash_flow_table(config)"
   ]
  },
  {
   "cell_type": "markdown",
   "id": "055bae84",
   "metadata": {},
   "source": [
    "Tha annual variation in the cash flow is calculated based on the typical start-up schedule of a chemical plant, as described in _Chemical Engineering Design_, 3rd Edition (Towler & Sinnott, 2021).\n",
    "\n",
    "Below is the start-up schedule adapted for the cash flow calculation in this code:\n",
    "\n",
    "\n",
    "| **Year**  | **Costs**                                                                 | **Revenues**              | **Explanation**                             |\n",
    "|-----------|---------------------------------------------------------------------------|---------------------------|---------------------------------------------|\n",
    "| 1st       | 30% of FCI                                                                | 0                         | Engineering and long lead-time items        |\n",
    "| 2nd       | 60% of FCI                                                                | 0                         | Procurement and construction                |\n",
    "| 3rd       | 10% of FCI + working capital + fixed production costs + 40% of variable production costs | 40% of design revenue    | Remaining construction and initial production |\n",
    "| 4th       | Fixed production costs + 80% of variable production costs                 | 80% of design revenue     | Shake-down of plant                         |\n",
    "| 5th+++    | Fixed + variable production costs                                         | 100% of design revenue    | Full production at design rates             |"
   ]
  },
  {
   "cell_type": "markdown",
   "id": "0fee44fc",
   "metadata": {},
   "source": [
    "---\n",
    "As you may have noticed in the cash flow table, the __NPVs__ for each year of the project lifetime are calculated in the last column.\n",
    "\n",
    "Now, based on this cash flow, we can calculate the remaining economic performance metrics as follows:"
   ]
  },
  {
   "cell_type": "code",
   "execution_count": 10,
   "id": "124de8d6",
   "metadata": {},
   "outputs": [
    {
     "name": "stdout",
     "output_type": "stream",
     "text": [
      "Internal rate of return: 12.9%\n",
      "Payback time: 5.4 years\n"
     ]
    }
   ],
   "source": [
    "print(f\"Internal rate of return: {round(calculate_irr(config),3) * 100}%\")\n",
    "print(f\"Payback time: {round(calculate_payback_time(config),1)} years\")"
   ]
  },
  {
   "cell_type": "markdown",
   "id": "22a1c08e",
   "metadata": {},
   "source": [
    "There have been many type of levelized cost equations in the literature. In this code we opt to choose this version:\n",
    "\n",
    "$$\n",
    "\\text{LCOP} = \n",
    "\\frac{\\displaystyle\n",
    "  \\sum_{t=1}^{tp} \\frac{\\text{CAPEX}_t + \\text{OPEX}_t}{(1 + i)^t}\n",
    "}{\\displaystyle\n",
    "  \\sum_{t=1}^{tp} \\frac{\\text{PRODUCT}_{t}}{(1 + i)^t}\n",
    "}\n",
    "$$\n",
    "\n",
    "where $\\text{LCOP}$ is the levelized cost of products, $\\text{CAPEX}_t$ represents the capital cost in year $ t $, $ \\text{OPEX}_t $ is the cash cost of production (total OPEX) in year $ t $, and $ \\text{PRODUCT}_{t} $ is the amount of product produced in year $ t $, while $ i $ is the fixed interest rate (discount rate). The year index, $ t $, ranging from 1 to $ t_p $, where $ t_p $ represents the project lifetime in years."
   ]
  },
  {
   "cell_type": "code",
   "execution_count": 11,
   "id": "74aa24c0",
   "metadata": {},
   "outputs": [
    {
      "cell_type": "code",
      "execution_count": null,
      "id": "ea39c779",
      "metadata": {
        "id": "ea39c779"
      },
      "outputs": [],
      "source": [
        "from tea import *"
      ]
    },
    {
      "cell_type": "markdown",
      "id": "361c7793",
      "metadata": {
        "id": "361c7793"
      },
      "source": [
        "### __2. Create Equipment Objects__\n",
        "\n",
        "The second step is to create objects that represent each component in your process plant using the `Equipment`The second step is to create objects that represent each component in your process plant using the `Equipment` class. These objects capture key characteristics such as name, process type, material, and specific parameters like power or pressure.\n",
        "\n",
        "Below are some examples:"
      ]
    },
    {
      "cell_type": "code",
      "execution_count": null,
      "id": "34a26b96",
      "metadata": {
        "id": "34a26b96"
      },
      "outputs": [],
      "source": [
        "# Creating objects for the process equipment\n",
        "comp = Equipment(\n",
        "    name='Comp-1',\n",
        "    process_type='Fluids',\n",
        "    material='Carbon steel',\n",
        "    param=150,\n",
        "    type='Compressor',\n",
        "    subtype='Centrifugal'\n",
        ")\n",
        "\n",
        "motor_comp = Equipment(\n",
        "    name='Motor-1',\n",
        "    process_type='Electrical',\n",
        "    material='Carbon steel',\n",
        "    param=150/0.9,  # Adjusted for efficiency\n",
        "    type='Motor/generator',\n",
        "    subtype='Totally enclosed'\n",
        ")\n",
        "\n",
        "heatX = Equipment(\n",
        "    name='HeatX-1',\n",
        "    process_type='Fluids',\n",
        "    material='316 stainless steel',\n",
        "    param=50,\n",
        "    type='Heat exchanger',\n",
        "    subtype='U-tube shell & tube'\n",
        ")\n",
        "\n",
        "cooler = Equipment(\n",
        "    name='Cooler-1',\n",
        "    process_type='Fluids',\n",
        "    material='Carbon steel',\n",
        "    param=60,\n",
        "    type='Heat exchanger',\n",
        "    subtype='U-tube shell & tube'\n",
        ")\n",
        "\n",
        "psa = Equipment(\n",
        "    name='PSA',\n",
        "    process_type='Fluids',\n",
        "    material='Carbon steel',\n",
        "    param=800,\n",
        "    type='PSA'\n",
        ")\n",
        "\n",
        "reactor = Equipment(\n",
        "    name='Reactor',\n",
        "    process_type='Mixed',\n",
        "    material='316 stainless steel',\n",
        "    param=300,\n",
        "    type='Reactor',\n",
        "    subtype='Fluidized Bed'\n",
        ")\n"
      ]
    },
    {
      "cell_type": "markdown",
      "id": "da602d56",
      "metadata": {
        "id": "da602d56"
      },
      "source": [
        "Here are the accepted inputs for Equipment Class:\n",
        "\n",
        "The `Equipment` class supports a range of **process types**, **materials**, **equipment types**, and **subtypes**, each associated with specific costing correlations. The main parameter (`param`) should be in appropriate units depending on the equipment type (e.g., kW for motors, kW for compressors, m² for heat exchangers, etc.).\n",
        "\n",
        "---\n",
        "\n",
        "🏭 **Process Types**\n",
        "\n",
        "`process type` represent the nature of the equipment's role in the process and are used to determine installation and design factors:\n",
        "\n",
        "- Solids\n",
        "- Fluids\n",
        "- Mixed\n",
        "- Electrical\n",
        "\n",
        "---\n",
        "\n",
        "🔩 **Material Options**\n",
        "\n",
        "`material` affect the cost multiplier based on fabrication and corrosion resistance:\n",
        "\n",
        "- Carbon steel\n",
        "- Aluminum\n",
        "- Bronze\n",
        "- Cast steel\n",
        "- 304 stainless steel\n",
        "- 316 stainless steel\n",
        "- 321 stainless steel\n",
        "- Hastelloy C\n",
        "- Monel\n",
        "- Nickel\n",
        "- Inconel\n",
        "\n",
        "---\n",
        "\n",
        "⚙️ **Equipment Types and Subtypes**\n",
        "\n",
        "Each `type` may include specific `subtype` options that map to different costing correlations.\n",
        "\n",
        "| Type               | Subtype(s)                                                                 |\n",
        "|--------------------|----------------------------------------------------------------------------|\n",
        "| **Blower**         | *(no subtype)*                                                             |\n",
        "| **Compressor**     | Centrifugal, Reciprocating                                                 |\n",
        "| **Cyclone**        | *(no subtype)*                                                             |\n",
        "| **Heat exchanger** | U-tube shell & tube, Floating head shell & tube, Double pipe, Thermosiphon reboiler, U-tube kettle reboiler, Plate & frame |\n",
        "| **Furnace/heater** | Cylindrical furnace, Box furnace, Pyrolysis furnace, Electric furnace      |\n",
        "| **Motor/generator**| Explosion proof, Totally enclosed                                          |\n",
        "| **PSA**            | *(no subtype)*                                                             |\n",
        "| **Pump**           | *(no subtype)*                                                             |\n",
        "| **Reactor**        | Fluidized Bed, Vertical CS Vessel, Horizontal CS Vessel, Vertical 304SS Vessel, Horizontal 304SS Vessel |\n",
        "| **Turbine**        | Condensing steam, Axial gas, Radial expander                               |\n",
        "\n",
        "---\n",
        "\n",
        "📐 **Parameter (`param`) Units**\n",
        "\n",
        "The unit for the `param` argument depends on the cost correlations used for each type of equipment:\n",
        "\n",
        "| Equipment Type      | Sub-type                     | Source           | Parameter Meaning         | Example Unit      | Valid Value Range        |\n",
        "|---------------------|------------------------------|------------------|---------------------------|-------------------|--------------------------|\n",
        "| Blower              | Blower                       | Towler, 2010     | Volumetric flow rate      | m³/h              | 200 - 5000               |\n",
        "| Compressor          | Centrifugal                  | Towler, 2010     | Driver power              | kW                | 75 - 30,000              |\n",
        "|                     | Reciprocating                | Towler, 2010     | Driver power              | kW                | 93 - 16,800              |\n",
        "| Cyclone             | Gas Multi-cyclone            | Ulrich, 2003     | Volumetric flow rate      | m³/h              | 0.1 - 45                 |\n",
        "| Heat exchanger      | U-tube shell & tube          | Towler, 2010     | Heat exchanger area       | m²                | 10 - 1000                |\n",
        "|                     | Floating head shell & tube   | Towler, 2010     | Heat exchanger area       | m²                | 10 - 1000                |\n",
        "|                     | Double pipe                  | Towler, 2010     | Heat exchanger area       | m²                | 1 - 80                   |\n",
        "|                     | Thermosiphon reboiler        | Towler, 2010     | Heat exchanger area       | m²                | 10 - 500                 |\n",
        "|                     | U-tube kettle reboiler       | Towler, 2010     | Heat exchanger area       | m²                | 10 - 500                 |\n",
        "|                     | Plate & frame                | Towler, 2010     | Heat exchanger area       | m²                | 1 - 500                  |\n",
        "| Furnace/heater      | Cylindrical furnace          | Towler, 2010     | Heating duty              | MW                | 0.2 - 60                 |\n",
        "|                     | Box furnace                  | Towler, 2010     | Heating duty              | MW                | 30 - 120                 |\n",
        "|                     | Pyrolysis furnace            | Ulrich, 2003     | Heating duty              | kW                | 3000 - 60,000            |\n",
        "|                     | Electric furnace (Arc)       | Parkinson, 2016  | Electric power            | MWe               | N/A                      |\n",
        "| Motor/generator     | Explosion proof              | Ulrich, 2003     | Shaft power               | kW                | 2.8 - 5000               |\n",
        "|                     | Totally enclosed             | Ulrich, 2003     | Shaft power               | kW                | 0.2 - 9000               |\n",
        "| PSA                 | PSA                          | Towler, 1994     | Mole feed rate            | kmol/h            | N/A                      |\n",
        "| Pump                | Single-stage centrifugal pump| Towler, 2010     | Volumetric flow rate      | L/s               | 0.2 - 126                |\n",
        "| Reactor             | Fluidized Bed                | Ulrich, 2003     | Reactor volume            | m³                | 0.3 - 2400               |\n",
        "|                     | Vertical CS Vessel           | Towler, 2010     | Shell mass                | kg                | 160 - 250,000            |\n",
        "|                     | Horizontal CS Vessel         | Towler, 2010     | Shell mass                | kg                | 160 - 50,000             |\n",
        "|                     | Vertical 304SS Vessel        | Towler, 2010     | Shell mass                | kg                | 120 - 250,000            |\n",
        "|                     | Horizontal 304SS Vessel      | Towler, 2010     | Shell mass                | kg                | 120 - 50,000             |\n",
        "| Turbine             | Condensing steam             | Towler, 2010     | Turbine power             | kW                | 100 - 20,000             |\n",
        "|                     | Axial gas                    | Ulrich, 2003     | Turbine power             | kW                | 10 - 10,000              |\n",
        "|                     | Radial expander              | Ulrich, 2003     | Turbine power             | kW                | 2.5 - 1500               |\n",
        "\n",
        "📝 Some notes\n",
        "\n",
        "Ensure that the value passed to `param` is consistent with the cost correlation being applied.\n",
        "\n",
        "The value of `param` cannot be less than the valid range. However, if it exceeds the valid range, the class will consider an additional number of parallel units."
      ]
    },
    {
      "cell_type": "markdown",
      "id": "2be06ed4",
      "metadata": {
        "id": "2be06ed4"
      },
      "source": [
        "Once you have created the objects for your process plant equipment, you can check the estimated purchase and direct costs of each component as follows"
      ]
    },
    {
      "cell_type": "code",
      "execution_count": null,
      "id": "b7e011cd",
      "metadata": {
        "id": "b7e011cd"
      },
      "outputs": [],
      "source": [
        "print(f\"Purchase cost of the compressor: ${comp.purchased_cost:,.2f}\")\n",
        "print(f\"Direct cost of the compressor: ${comp.direct_cost:,.2f}\")"
      ]
    },
    {
      "cell_type": "markdown",
      "id": "e898eef9",
      "metadata": {
        "id": "e898eef9"
      },
      "source": [
        "### __3. Estimating Fixed Capital Investment__\n",
        "\n",
        "Now we estimate the total fixed capital investment (FCI) of the plant, which consists of:\n",
        "\n",
        "- Inside Battery Limits (ISBL)  \n",
        "- Outside Battery Limits (OSBL)  \n",
        "- Design and engineering costs\n",
        "- Contingency\n",
        "\n",
        "Estimated using the following equation:\n",
        "\n",
        "$$\n",
        "\\text{FCI} = \\text{ISBL} \\cdot (1 + OS) \\cdot (1 + D\\&E + X) \\cdot LF\n",
        "$$\n",
        "\n",
        "Where, ISBL is the total of equipment direct costs and the other are factors are determined based on the user inputs in the plant configuration: `process_type`, `country`, and `region`.\n",
        "\n",
        "- **Process type**: Determines the nature of the plant's operation and influences cost estimation factors. The available types are:  \n",
        "    - `Solids`: OS = 0.4, D\\&E = 0.2, X = 0.1  \n",
        "    - `Fluids`: OS = 0.3, D\\&E = 0.3, X = 0.1  \n",
        "    - `Mixed`: OS = 0.4, D\\&E = 0.25, X = 0.1  \n",
        "\n",
        "- **Country & region**: Determines the location factor (_LF_), which adjusts the estimated capital cost to reflect local economic conditions and construction costs. Available countries and regions are:  \n",
        "\n",
        "    - **United States**\n",
        "        - Gulf Coast: 1.00  \n",
        "        - East Coast: 1.04  \n",
        "        - West Coast: 1.07  \n",
        "        - Midwest: 1.02  \n",
        "    - **Canada**\n",
        "        - Ontario: 1.00  \n",
        "        - Fort McMurray: 1.60  \n",
        "    - **Mexico**: 1.03  \n",
        "    - **Brazil**: 1.14  \n",
        "    - **China**  \n",
        "        - Imported: 1.12  \n",
        "        - Indigenous: 0.61  \n",
        "    - **Japan**: 1.26  \n",
        "    - **Southeast Asia**: 1.12  \n",
        "    - **Australia**: 1.21  \n",
        "    - **India**: 1.02  \n",
        "    - **Middle East**: 1.07  \n",
        "    - **France**: 1.13  \n",
        "    - **Germany**: 1.11  \n",
        "    - **Italy**: 1.14  \n",
        "    - **Netherlands**: 1.19  \n",
        "    - **Russia**: 1.53  \n",
        "    - **United Kingdom**: 1.02  \n",
        "\n",
        "*Note: These factors are based on _Chemical Engineering Design_, 3rd Edition (Towler & Sinnott, 2021).*\n"
      ]
    },
    {
      "cell_type": "markdown",
      "id": "cf6dc1ae",
      "metadata": {
        "id": "cf6dc1ae"
      },
      "source": [
        "These basic plant inputs are provided in the `config` dictionary as follows:"
      ]
    },
    {
      "cell_type": "code",
      "execution_count": null,
      "id": "03bcc511",
      "metadata": {
        "id": "03bcc511"
      },
      "outputs": [],
      "source": [
        "config = {\n",
        "    'process_type': 'Mixed',\n",
        "    'country': 'Netherlands',\n",
        "    'region': None,\n",
        "    # List all the process equipment objects that have been created below\n",
        "    # This is for calculating the ISBL cost\n",
        "    'equipment': [\n",
        "        comp,\n",
        "        motor_comp,\n",
        "        heatX,\n",
        "        cooler,\n",
        "        psa,\n",
        "        reactor\n",
        "    ]\n",
        "}"
      ]
    },
    {
      "cell_type": "markdown",
      "id": "b580af1a",
      "metadata": {
        "id": "b580af1a"
      },
      "source": [
        "Using function `calculate_fixed_capital`, we calculate the ISBL, OSBL, design and engineering costs, contigency and FCI values:"
      ]
    },
    {
      "cell_type": "code",
      "execution_count": null,
      "id": "29f016c1",
      "metadata": {
        "id": "29f016c1"
      },
      "outputs": [],
      "source": [
        "isbl, osbl, dne, x, fci = calculate_fixed_capital(config)\n",
        "\n",
        "# Print the resultS\n",
        "print(\"Capital Cost Estimation\")\n",
        "print(\"===================================\")\n",
        "print(f\"ISBL: ${isbl:,.2f}\")\n",
        "print(f\"OSBL: ${osbl:,.2f}\")\n",
        "print(f\"Design and Engineering: ${dne:,.2f}\")\n",
        "print(f\"Contingency: ${x:,.2f}\")\n",
        "print(f\"Fixed Capital Investment: ${fci:,.2f}\")"
      ]
    },
    {
      "cell_type": "markdown",
      "id": "2ed67f73",
      "metadata": {
        "id": "2ed67f73"
      },
      "source": [
        "### __4. Estimating Fixed Production Costs__\n",
        "\n",
        "The function `calculate_fixed_opex` calculates the fixed portion of the operating expenses, which includes:\n",
        "- Maintenance\n",
        "- Taxes and insurance\n",
        "- Operating labor\n",
        "- Supervision and overhead\n",
        "- et cetera.\n",
        "\n",
        "In addition to fixed capital investment, the fixed production costs are estimated based on the plant's working capital, variable opex, interest rate and operator's hourly rate.\n",
        "\n",
        "*Note, this is mainly calculated based on _Analysis, Synthesis, and Design of Chemical Processes_, 5th Edition (Turton et al., 2018)\n",
        "\n",
        "Therefore, we first need to update our plant `config` dictionary with these financial parameters:"
      ]
    },
    {
      "cell_type": "code",
      "execution_count": null,
      "id": "346bc623",
      "metadata": {
        "id": "346bc623"
      },
      "outputs": [],
      "source": [
        "config.update({\n",
        "    'working_capital': 0.15*config['fixed_capital'],  # Common assumption for working capital: 15% of the fixed capital\n",
        "    'interest_rate': 0.09,  # The annual interest rate used for financing, here set at 9%.\n",
        "    'variable_opex': 10000000,  # This is the annual value (in US$/Year). This depends solely on your process\n",
        "    'operator_hourly_rate': 38.11  # The hourly rate of 1 process plant operator (in US$/hour)\n",
        "})"
      ]
    },
    {
      "cell_type": "markdown",
      "id": "166f2a04",
      "metadata": {
        "id": "166f2a04"
      },
      "source": [
        "Now we can use the `calculate_fixed_opex` function:"
      ]
    },
    {
      "cell_type": "code",
      "execution_count": null,
      "id": "6af06f12",
      "metadata": {
        "id": "6af06f12"
      },
      "outputs": [],
      "source": [
        "fixed_production_costs = calculate_fixed_opex(config)\n",
        "\n",
        "# Print the results\n",
        "print(\"Operating Cost Estimation\")\n",
        "print(\"===================================\")\n",
        "print(f\"Variable OPEX: ${config['variable_opex']:,.2f}\")\n",
        "print(f\"Fixed OPEX: ${fixed_production_costs:,.2f}\")"
      ]
    },
    {
      "cell_type": "markdown",
      "id": "307b9017",
      "metadata": {
        "id": "307b9017"
      },
      "source": [
        "### __5. Calculating Economic Performance Metrics__\n",
        "\n",
        "Once we have the total CAPEX (i.e., Fixed Capital Investment or FCI) and OPEX (i.e., variable and fixed operating costs), we can calculate the key economic performance metrics.\n",
        "\n",
        "This code covers the following metrics:\n",
        "- __Net-present value (NPV)__\n",
        "- __Internal rate of return (IRR)__\n",
        "- __Payback time (PBT)__\n",
        "- __Return of investment (ROI)__\n",
        "- __Levelized cost__\n",
        "\n",
        "The first step in calculating the metrics is to create the cash flow for the process plant throughout its lifetime.\n",
        "\n",
        "To do this, we need the following inputs in our plant config dictionary:\n",
        "- Project lifetime (in years, minimum of 3 years)\n",
        "- Annual production of the product (e.g. MWh/year of electricity, kg/year of H2)\n",
        "- Price of product in US$/unit (ensure that the unit matches the one used for annual production)\n",
        "- Income tax rate"
      ]
    },
    {
      "cell_type": "code",
      "execution_count": null,
      "id": "8e8f68cd",
      "metadata": {
        "id": "8e8f68cd"
      },
      "outputs": [],
      "source": [
        "config.update({\n",
        "    'project_lifetime': 20,  # in years\n",
        "    'annual_prod': 10000000,  # in unit per year\n",
        "    'product_price': 3,  # in currency per unit\n",
        "    'tax_rate': 0.3,  # assuming 30% tax rate\n",
        "})"
      ]
    },
    {
      "cell_type": "markdown",
      "id": "94a1dcab",
      "metadata": {
        "id": "94a1dcab"
      },
      "source": [
        "To create the process plant cash flow table, we use the function `create_cash_flow_table` as follows:"
      ]
    },
    {
      "cell_type": "code",
      "execution_count": null,
      "id": "2378c9e6",
      "metadata": {
        "id": "2378c9e6"
      },
      "outputs": [],
      "source": [
        "print(\"Cash Flow Table\")\n",
        "print(\"================\")\n",
        "create_cash_flow_table(config)"
      ]
    },
    {
      "cell_type": "markdown",
      "id": "055bae84",
      "metadata": {
        "id": "055bae84"
      },
      "source": [
        "Tha annual variation in the cash flow is calculated based on the typical start-up schedule of a chemical plant, as described in _Chemical Engineering Design_, 3rd Edition (Towler & Sinnott, 2021).\n",
        "\n",
        "Below is the start-up schedule adapted for the cash flow calculation in this code:\n",
        "\n",
        "\n",
        "| **Year**  | **Costs**                                                                 | **Revenues**              | **Explanation**                             |\n",
        "|-----------|---------------------------------------------------------------------------|---------------------------|---------------------------------------------|\n",
        "| 1st       | 30% of FCI                                                                | 0                         | Engineering and long lead-time items        |\n",
        "| 2nd       | 60% of FCI                                                                | 0                         | Procurement and construction                |\n",
        "| 3rd       | 10% of FCI + working capital + fixed OPEX + 40% of variable OPEX | 40% of design revenue    | Remaining construction and initial production |\n",
        "| 4th       | Fixed OPEX + 80% of variable OPEX                 | 80% of design revenue     | Shake-down of plant                         |\n",
        "| 5th+++    | Fixed + variable OPEX                                         | 100% of design revenue    | Full production at design rates             |"
      ]
    },
    {
      "cell_type": "markdown",
      "id": "0fee44fc",
      "metadata": {
        "id": "0fee44fc"
      },
      "source": [
        "---\n",
        "As you may have noticed in the cash flow table, the __NPVs__ for each year of the project lifetime are calculated in the last column.\n",
        "\n",
        "Now, based on this cash flow, we can calculate the remaining economic performance metrics as follows:"
      ]
    },
    {
      "cell_type": "code",
      "execution_count": null,
      "id": "124de8d6",
      "metadata": {
        "id": "124de8d6"
      },
      "outputs": [],
      "source": [
        "print(f\"Internal rate of return: {round(calculate_irr(config),2) * 100}%\")\n",
        "print(f\"Payback time: {round(calculate_payback_time(config),1)} years\")"
      ]
    },
    {
      "cell_type": "markdown",
      "id": "22a1c08e",
      "metadata": {
        "id": "22a1c08e"
      },
      "source": [
        "There have been many type of levelized cost equations in the literature. In this code we opt to choose this version:\n",
        "\n",
        "$$\n",
        "\\text{LCOP} =\n",
        "\\frac{\\displaystyle\n",
        "  \\sum_{t=1}^{tp} \\frac{\\text{CAPEX}_t + \\text{OPEX}_t}{(1 + i)^t}\n",
        "}{\\displaystyle\n",
        "  \\sum_{t=1}^{tp} \\frac{\\text{PRODUCT}_{t}}{(1 + i)^t}\n",
        "}\n",
        "$$\n",
        "\n",
        "where $\\text{LCOP}$ is the levelized cost of products, $\\text{CAPEX}_t$ represents the capital cost in year $ t $, $ \\text{OPEX}_t $ is the cash cost of production (total OPEX) in year $ t $, and $ \\text{PRODUCT}_{t} $ is the amount of product produced in year $ t $, while $ i $ is the fixed interest rate (discount rate). The year index, $ t $, ranging from 1 to $ t_p $, where $ t_p $ represents the project lifetime in years."
      ]
    },
    {
      "cell_type": "code",
      "execution_count": null,
      "id": "74aa24c0",
      "metadata": {
        "id": "74aa24c0"
      },
      "outputs": [],
      "source": [
        "print(f\"LCOP: ${round(calculate_levelized_cost(config),2)}/unit\")"
      ]
    },
    {
      "cell_type": "code",
      "execution_count": null,
      "id": "3fb1d67b",
      "metadata": {
        "id": "3fb1d67b"
      },
      "outputs": [],
      "source": []
    }
  ],
  "metadata": {
    "kernelspec": {
      "display_name": "Python 3",
      "language": "python",
      "name": "python3"
    },
    "language_info": {
      "codemirror_mode": {
        "name": "ipython",
        "version": 3
      },
      "file_extension": ".py",
      "mimetype": "text/x-python",
      "name": "python",
      "nbconvert_exporter": "python",
      "pygments_lexer": "ipython3",
      "version": "3.12.2"
    },
    "colab": {
      "provenance": [],
      "include_colab_link": true
    }
  },
  "nbformat": 4,
  "nbformat_minor": 5
}