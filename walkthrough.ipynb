{
 "cells": [
  {
   "cell_type": "markdown",
   "id": "64d739a8",
   "metadata": {},
   "source": [
    "# **OpenPyTEA** Walkthrough"
   ]
  },
  {
   "cell_type": "markdown",
   "id": "259fb19a",
   "metadata": {},
   "source": [
    "## 🧭 Overview\n",
    "\n",
    "This walkthrough demonstrates the full workflow of **OpenPyTEA**, an open-source Python toolkit for transparent and reproducible **techno-economic assessment (TEA)** of process and energy systems.\n",
    "\n",
    "You will learn how to:\n",
    "\n",
    "1. Define process equipment and estimate their costs.\n",
    "2. Assemble a plant configuration and calculate capital and operating expenses.\n",
    "3. Evaluate economic performance metrics such as **NPV**, **IRR**, **payback period**, and **levelized cost (LCOP)**.\n",
    "4. Perform **sensitivity** and **uncertainty analyses** using tornado and Monte Carlo plots.\n",
    "5. Visualize results and interpret TEA outputs for decision-making and design improvement.\n",
    "\n",
    "This notebook is designed for both **researchers** and **students**, offering a clear, hands-on introduction to techno-economic modeling in Python."
   ]
  },
  {
   "cell_type": "markdown",
   "id": "d55090be",
   "metadata": {},
   "source": [
    "## ⚙️ Setup & Imports\n",
    "\n",
    "Before starting, ensure that **OpenPyTEA** and its dependencies are installed:\n",
    "\n",
    "```bash\n",
    "git clone https://github.com/pbtamarona/OpenPyTEA.git\n",
    "cd OpenPyTEA\n",
    "python -m venv env\n",
    "source env/bin/activate       # Linux / macOS\n",
    "env\\Scripts\\activate          # Windows\n",
    "pip install -r docs/requirements.txt\n",
    "```\n",
    "\n",
    "Import the main modules used throughout this walkthrough:"
   ]
  },
  {
   "cell_type": "code",
   "execution_count": null,
   "id": "e3b97287",
   "metadata": {},
   "outputs": [],
   "source": [
    "# Core modules\n",
    "from equipment import Equipment\n",
    "from plant import Plant\n",
    "from analysis import tornado_plot, monte_carlo, plot_multiple_monte_carlo"
   ]
  },
  {
   "cell_type": "markdown",
   "id": "0a3d7215",
   "metadata": {},
   "source": [
    "The following modules will be used:\n",
    "\n",
    "| Module | Description |\n",
    "|---------|--------------|\n",
    "| `equipment` | Defines individual process units and calculates equipment costs. |\n",
    "| `plant` | Combines equipment objects into a full plant configuration for TEA. |\n",
    "| `analysis` | Provides tools for sensitivity and uncertainty analyses. |\n",
    "\n",
    "Once the imports complete successfully, you’re ready to define your process equipment."
   ]
  },
  {
   "cell_type": "markdown",
   "id": "afbc3f1c",
   "metadata": {},
   "source": [
    "## 🧱 Define Equipment\n",
    "\n",
    "Each process unit (e.g., compressor, heat exchanger, reactor) is represented by an `Equipment` object.  \n",
    "You can specify the **equipment type**, **sizing variable**, **material**, and optionally provide custom cost data or scaling factors.\n",
    "\n",
    "The equipment module automatically:\n",
    "1. Selects the appropriate cost correlation from the internal database.\n",
    "2. Estimates the purchased and direct costs.\n",
    "3. Adjusts costs for inflation using CEPCI data.\n",
    "4. Stores all technical and economic attributes for plant-level aggregation.\n",
    "\n",
    "The direct costs refer to those incurred during the construction of a plant (installed costs), in addition to the purchased (delivered) cost of equipment, such as:\n",
    "1. Equipment erection, including foundations and minor structural work\n",
    "2. Piping, including insulation and painting\n",
    "3. Electrical, power, and lighting\n",
    "4. Instruments and automatic process control (APC) systems\n",
    "5. Process buildings and structures\n",
    "6. Ancillary buildings, offices, laboratory buildings, and workshops (if not costed separately as offsites)\n",
    "7. Storage for raw materials and finished product (if not costed separately as offsites)\n",
    "8. Utilities and provision of plant for steam, water, air, and firefighting services (if not costed separately as offsites)\n",
    "9. Site preparation\n",
    "\n",
    "Here are the mandatory and optional input for `Equipment` objects: \n",
    "\n",
    "| **Input Parameter**          | **Description**                                                                                                                                                           | **Example**                                               |\n",
    "| ---------------------------- | ------------------------------------------------------------------------------------------------------------------------------------------------------------------------- | --------------------------------------------------------- |\n",
    "| `name`                       | User-defined name or tag for the equipment instance.                                                                                                                      | `\"Reactor R-101\"`, `\"Pump P-201\"`                         |\n",
    "| `param`                      | Primary sizing or design variable used in cost correlations (e.g., volume, area, or flow rate). Units depend on the equipment type (check `data\\cost_correlations.csv` for this).                                       | `50` (m³), `800` (m²), or `5000` (kW)                     |\n",
    "| `process_type`               | Type of process handled by the equipment, which determines installation and auxiliary cost factors. Must be one of: `\"Solids\"`, `\"Fluids\"`, `\"Mixed\"`, or `\"Electrical\"`. | `\"Fluids\"`                                                |\n",
    "| `category`                   | Equipment category. Must match the `category` field in `data\\cost_correlations.csv`.                                                                                           | `\"Pump\"`, `\"Heat Exchanger\"`, `\"Compressor\"`, `\"Reactor\"` |\n",
    "| `type` *(optional)*          | Equipment sub-type. Must match the `type` field (if available) in `data\\cost_correlations.csv`.                                                                                | `\"Centrifugal\"`, `\"Shell-and-tube\"`                       |\n",
    "| `material` *(optional)*      | Material of construction. Affects installation cost via material multipliers. Defaults to `\"Carbon steel\"`.                                                               | `\"316 stainless steel\"`, `\"Aluminum\"`, `\"Monel\"`          |\n",
    "| `num_units` *(optional)*     | Number of identical units. Automatically determined if capacity exceeds the upper limit in the correlation.                                                               | `2`                                                       |\n",
    "| `purchase_cost` *(optional)* | Manually override the calculated purchase cost. If provided, the correlation and `param` are ignored.                                                                     | `1.5e6`                                                   |\n",
    "| `cost_func` *(optional)*     | Explicitly specify a correlation key from `data\\cost_correlations.csv` to override automatic category/type lookup.                                                             | `\"HX_shell_tube_01\"`                                      |\n",
    "| `target_year` *(optional)*   | Target year for inflation adjustment. Defaults to `2023`.                                                                                                                 | `2025`                                                    |\n",
    "\n",
    "Multiple equipment objects can be defined and later combined into a complete process plant using the `ProcessPlant` class (next section).\n",
    "\n",
    "### Equipment Class – Usage Examples\n",
    "\n",
    "Below are practical examples demonstrating all key functionalities of the `Equipment` class.\n",
    "\n",
    "**1. Automatic Correlation Lookup**\n",
    "\n",
    "Uses `category` and `type` to fetch cost correlations automatically and apply CEPCI inflation."
   ]
  },
  {
   "cell_type": "code",
   "execution_count": null,
   "id": "19f699b6",
   "metadata": {},
   "outputs": [],
   "source": [
    "hx = Equipment(\n",
    "    name=\"HX-101\",\n",
    "    param=850,                      # e.g., m² area\n",
    "    process_type=\"Fluids\",\n",
    "    category=\"Heat Exchangers\",\n",
    "    type=\"U-tube shell & tube\",\n",
    "    material=\"316 stainless steel\"\n",
    ")\n",
    "\n",
    "print(hx)\n",
    "\n",
    "# To fetch the purchase and direct installation costs you can use:\n",
    "print(hx.purchased_cost)\n",
    "print(hx.direct_cost)"
   ]
  },
  {
   "cell_type": "markdown",
   "id": "1d38e4f5",
   "metadata": {},
   "source": [
    "**2. Using an Explicit `cost_func` Key**\n",
    "\n",
    "Bypass automatic lookup and use a known cost-correlation key directly."
   ]
  },
  {
   "cell_type": "code",
   "execution_count": null,
   "id": "88949111",
   "metadata": {},
   "outputs": [],
   "source": [
    "comp1 = Equipment(\n",
    "    name='Comp-1', \n",
    "    process_type='Fluids', \n",
    "    material='Carbon steel', \n",
    "    param=150/1000, # MW\n",
    "    category='Compressors & Blowers', \n",
    "    type='Compressor, centrifugal',\n",
    "    cost_func = 'co2_compressor_manzolini_2011'\n",
    ")\n",
    "\n",
    "print(comp1)"
   ]
  },
  {
   "cell_type": "markdown",
   "id": "cbc3d5eb",
   "metadata": {},
   "source": [
    "**3. Manually Defined `purchased_cost`**\n",
    "\n",
    "Skip correlation and inflation calculations by supplying your own purchased cost."
   ]
  },
  {
   "cell_type": "code",
   "execution_count": null,
   "id": "a477a8b9",
   "metadata": {},
   "outputs": [],
   "source": [
    "dryer = Equipment(\n",
    "    name=\"Rotary Dryer D-301\",\n",
    "    param=0,                        # ignored\n",
    "    process_type=\"Solids\",\n",
    "    category=\"Dryer\",\n",
    "    material=\"Carbon steel\",\n",
    "    purchased_cost=1_500_000,        # already in target-year money\n",
    "    target_year=2025\n",
    ")\n",
    "print(dryer)"
   ]
  },
  {
   "cell_type": "markdown",
   "id": "784b5faf",
   "metadata": {},
   "source": [
    "**4. Auto-Parallelization for Oversized Equipment**\n",
    "\n",
    "If `param` exceeds the upper bound in the correlation, the system automatically creates multiple parallel units."
   ]
  },
  {
   "cell_type": "code",
   "execution_count": null,
   "id": "f315c54d",
   "metadata": {},
   "outputs": [],
   "source": [
    "comp2 = Equipment(\n",
    "    name=\"Air Compressor C-101\",\n",
    "    param=90_000,                   # exceeds upper_parallel → auto-splits\n",
    "    process_type=\"Fluids\",\n",
    "    category='Compressors & Blowers', \n",
    "    type='Compressor, centrifugal',\n",
    ")\n",
    "print(comp2)\n",
    "print(comp2.num_units)"
   ]
  },
  {
   "cell_type": "markdown",
   "id": "215da52c",
   "metadata": {},
   "source": [
    " **5. Inflation Adjustment to a Custom Year**\n",
    "\n",
    "Calculate cost for a different inflation-adjusted year using CEPCI."
   ]
  },
  {
   "cell_type": "code",
   "execution_count": null,
   "id": "387de985",
   "metadata": {},
   "outputs": [],
   "source": [
    "hx_2020 = Equipment(\n",
    "    name=\"HX E-102\",\n",
    "    param=850,\n",
    "    process_type=\"Fluids\",\n",
    "    category=\"Heat Exchangers\",\n",
    "    type=\"U-tube shell & tube\",\n",
    "    material=\"316 stainless steel\",\n",
    "    target_year=2020\n",
    ")\n",
    "print(hx_2020)"
   ]
  },
  {
   "cell_type": "markdown",
   "id": "3a050c7b",
   "metadata": {},
   "source": [
    "**6. Effect of Material and Process Type on Direct Cost**\n",
    "\n",
    "Demonstrates how material and process factors modify the direct (installed) cost."
   ]
  },
  {
   "cell_type": "code",
   "execution_count": null,
   "id": "0acabf6e",
   "metadata": {},
   "outputs": [],
   "source": [
    "mixer_cs = Equipment(\n",
    "    name=\"Agitator M-101 (CS)\",\n",
    "    param=100,\n",
    "    process_type=\"Fluids\",\n",
    "    category=\"Agitators & mixers\",\n",
    "    type=\"Propeller mixer\",\n",
    "    material=\"Carbon steel\"\n",
    ")\n",
    "print(mixer_cs)\n",
    "\n",
    "mixer_alloy = Equipment(\n",
    "    name=\"Agitator M-102 (Alloy)\",\n",
    "    param=10,\n",
    "    process_type=\"Fluids\",\n",
    "    category=\"Agitators & mixers\",\n",
    "    type=\"Propeller mixer\",\n",
    "    material=\"Hastelloy C\"\n",
    ")\n",
    "print(mixer_alloy)\n",
    "\n",
    "mixer_solids = Equipment(\n",
    "    name=\"Agitator M-101 (Mixed)\",\n",
    "    param=100,\n",
    "    process_type=\"Solids\",\n",
    "    category=\"Agitators & mixers\",\n",
    "    type=\"Propeller mixer\",\n",
    "    material=\"Carbon steel\"\n",
    ")\n",
    "print(mixer_solids)"
   ]
  },
  {
   "cell_type": "markdown",
   "id": "63ad7765",
   "metadata": {},
   "source": [
    "**7. Forcing a Specific Number of Units**\n",
    "\n",
    "Override the automatically calculated number of parallel units."
   ]
  },
  {
   "cell_type": "code",
   "execution_count": null,
   "id": "e255054f",
   "metadata": {},
   "outputs": [],
   "source": [
    "fridge = Equipment(\n",
    "    name=\"Refrigerator R-201\",\n",
    "    param=180,\n",
    "    process_type=\"Fluids\",\n",
    "    category=\"Utilities\",\n",
    "    type=\"Packaged mechanical refrigerator\",\n",
    "    num_units=3                    # manually fix number of units\n",
    ")\n",
    "print(fridge)"
   ]
  },
  {
   "cell_type": "markdown",
   "id": "28d2f870",
   "metadata": {},
   "source": [
    "## 🏭 Creating the Plant\n",
    "\n",
    "`Plant` aggregates equipment and economics to estimate:\n",
    "- **ISBL / OSBL / D&E / Contingency** → Fixed Capital using process-type multipliers and optional capital factor\n",
    "- **Variable OPEX** from your itemized consumptions and prices.\n",
    "- **Fixed OPEX** (labor model, supervision, overheads, maintenance, taxes/insurance, etc.) with an optional OPEX factor\n",
    "- **Cash flow, NPV, LCOP, Payback, ROI, IRR** over the project lifetime, using your product price, utilization, tax, and discount rate(s)\n",
    "\n",
    "Internally it also applies location factors by country/region and counts operators from equipment composition (fluids/solids/mixed).\n",
    "\n",
    "### Creating a plant\n"
   ]
  },
  {
   "cell_type": "code",
   "execution_count": null,
   "id": "9465881e",
   "metadata": {},
   "outputs": [],
   "source": [
    "config = {\n",
    "    \"plant_name\": \"Demo Plant\",\n",
    "    \"process_type\": \"Fluids\",           # \"Solids\" | \"Fluids\" | \"Mixed\"\n",
    "    \"country\": \"United States\",\n",
    "    \"region\": \"Gulf Coast\",\n",
    "    \"equipment\": [hx, comp1, comp2],    # list of Equipment (each has .direct_cost)\n",
    "    \"variable_opex_inputs\": {           # annualized inside the class\n",
    "        \"electricity\":   {\"consumption\": 2.2e6, # daily consumption\n",
    "                          \"price\": 0.08},       # price in USD, make sure the units match with consumption\n",
    "        \"cooling_water\": {\"consumption\": 1.6e6, \"price\": 0.0007},\n",
    "        \"steam\":         {\"consumption\": 4.0e5, \"price\": 0.02},\n",
    "    },\n",
    "    \"working_capital\": None,            # if None → 15% of fixed capital\n",
    "    \"interest_rate\": 0.10,              # discount rate and WC interest\n",
    "    \"operator_hourly_rate\": 42.0,\n",
    "    \"project_lifetime\": 20,             # years (int ≥ 3)\n",
    "    \"daily_prod\": 100_000,              # units/day (nameplate)\n",
    "    \"plant_utilization\": 0.90,          # 0-1\n",
    "    \"product_price\": 5,                 # $/unit\n",
    "    \"tax_rate\": 0.25,\n",
    "    # Depreciation (optional; defaults to straight-line if omitted)\n",
    "    \"depreciation\": {\n",
    "        \"method\": \"macrs\",            # \"straight_line\" | \"declining_balance\" | \"macrs\"\n",
    "        \"macrs_class\": 7,             # 3,5,7,10,15,20 (half-year convention)\n",
    "        \"service_start_year\": 2       # first operating year in your ramp (0/0/40%/80%/100%)\n",
    "    }\n",
    "}\n",
    "\n",
    "demo_plant = Plant(config)"
   ]
  },
  {
   "cell_type": "markdown",
   "id": "460fa235",
   "metadata": {},
   "source": [
    "Update any setting later without rebuilding: `plant.update_configuration(config)`. Nested dicts (like `variable_opex_inputs`) are merged, not overwritten.\n",
    "\n",
    "### What you can configure (keys in the config)\n",
    "\n",
    "**Configuration Keys (Plant Object)**\n",
    "\n",
    "| **Key**                                            | **Type / Allowed Values**           | **Description**                                                                                              |\n",
    "| -------------------------------------------------- | ----------------------------------- | ------------------------------------------------------------------------------------------------------------ |\n",
    "| `plant_name`                                       | `str`                               | Label for reporting and output tables.                                                                       |\n",
    "| `process_type`                                     | `\"Solids\"` | `\"Fluids\"` | `\"Mixed\"` | Determines OSBL, D&E, and contingency factors used in fixed capital estimation.                              |\n",
    "| `country`, `region`                                | `str`                               | Location factor lookup. `region` is required when the selected `country` includes multiple region factors.   |\n",
    "| `equipment`                                        | `list[Equipment]`                   | Each `Equipment` object must have a `direct_cost` attribute (computed automatically or provided).            |\n",
    "| `variable_opex_inputs`                             | `dict`                              | Dictionary of `{item: {consumption, price}}`; each entry is annualized within `calculate_fixed_opex()`.      |\n",
    "| `working_capital`                                  | `float` or `None`                   | If omitted, defaults to **15%** of fixed capital. Interest on working capital is charged at `interest_rate`. |\n",
    "| `interest_rate`                                    | `float`                             | Used for **NPV discounting** and for calculating **working capital interest**.                               |\n",
    "| `operator_hourly_rate`                             | `float`                             | Hourly rate used to estimate **operating labor cost**.                                                       |\n",
    "| `project_lifetime`                                 | `int` ≥ 3                           | Analysis horizon in years. Validation ensures values ≥ 3.                                                    |\n",
    "| `daily_prod`, `plant_utilization`, `product_price` | `float`                             | Define annual production rate (`daily_prod × 365 × utilization`) and revenue (`× product_price`).            |\n",
    "| `tax_rate`                                         | `float`                             | Corporate income tax fraction used to compute annual tax payments.                                           |\n",
    "\n",
    "**Depreciation Configuration (optional)**\n",
    "\n",
    "| **Key**              | **Type / Allowed Values**                             | **Description**                                                                                                                             | **Applies To**                    |\n",
    "| -------------------- | ----------------------------------------------------- | ------------------------------------------------------------------------------------------------------------------------------------------- | --------------------------------- |\n",
    "| `method`             | `\"straight_line\"` / `\"declining_balance\"` / `\"macrs\"` | Selects the depreciation model. Defaults to `\"straight_line\"` if omitted.                                                                   | All methods                       |\n",
    "| `life`               | `int`                                                 | Service life in years used for straight-line or declining-balance depreciation.                                                             | Straight-line / Declining-balance |\n",
    "| `salvage_fraction`   | `float` (0–1)                                         | Fraction of asset value remaining at end of life (not depreciated). Defaults to 0.0 if not provided.                                        | Straight-line / Declining-balance |\n",
    "| `db_factor`          | `float`                                               | Declining-balance factor (e.g., 2.0 for 200% DDB or 1.5 for 150% DB). The method automatically switches to straight-line when advantageous. | Declining-balance                 |\n",
    "| `macrs_class`        | `int` ∈ {3, 5, 7, 10, 15, 20}                         | MACRS recovery period (in years) following IRS half-year convention. Determines built-in depreciation schedule.                             | MACRS                             |\n",
    "| `convention`         | `\"half_year\"` *(default)*                             | Convention for MACRS depreciation timing. Currently only `\"half_year\"` is implemented.                                                      | MACRS                             |\n",
    "| `service_start_year` | `int` ≥ 0                                             | Year (relative to the CAPEX ramp) when depreciation begins. Commonly set to **2**, i.e., first operating year.                              | All methods                       |"
   ]
  },
  {
   "cell_type": "markdown",
   "id": "ce7137a0",
   "metadata": {},
   "source": [
    "### How cost are computed\n",
    "\n",
    "**1. Fixed Capital Investment**\n",
    "\n",
    "The total fixed capital investment (FCI) of the plant consists of:\n",
    "- Inside Battery Limits (ISBL)  \n",
    "- Outside Battery Limits (OSBL)  \n",
    "- Design and engineering costs (D&E)\n",
    "- Contingency\n",
    "\n",
    "Estimated using the following equation:\n",
    "$$\n",
    "\\text{FCI} = \\text{ISBL} \\cdot (1 + OS) \\cdot (1 + D\\&E + X) \\cdot LF\n",
    "$$\n",
    "<p style=\"text-align: justify;\">Where, ISBL is the total of equipment direct costs and the other are factors are determined based on the user inputs in the plant configuration: <code>process_type</code>, <code>country</code>, and <code>region</code>.</p>\n",
    "\n",
    "- **Process type**: Determines the nature of the plant's operation and influences cost estimation factors. The available types are:  \n",
    "    - `Solids`: OS = 0.4, D\\&E = 0.2, X = 0.1  \n",
    "    - `Fluids`: OS = 0.3, D\\&E = 0.3, X = 0.1  \n",
    "    - `Mixed`: OS = 0.4, D\\&E = 0.25, X = 0.1  \n",
    "\n",
    "- **Country & region**: Determines the location factor (_LF_), which adjusts the estimated capital cost to reflect local economic conditions and construction costs. Available countries and regions are:  \n",
    "\n",
    "    - **United States**\n",
    "        - Gulf Coast: 1.00  \n",
    "        - East Coast: 1.04  \n",
    "        - West Coast: 1.07  \n",
    "        - Midwest: 1.02  \n",
    "    - **Canada** \n",
    "        - Ontario: 1.00  \n",
    "        - Fort McMurray: 1.60  \n",
    "    - **Mexico**: 1.03  \n",
    "    - **Brazil**: 1.14  \n",
    "    - **China**  \n",
    "        - Imported: 1.12  \n",
    "        - Indigenous: 0.61  \n",
    "    - **Japan**: 1.26  \n",
    "    - **Southeast Asia**: 1.12  \n",
    "    - **Australia**: 1.21  \n",
    "    - **India**: 1.02  \n",
    "    - **Middle East**: 1.07  \n",
    "    - **France**: 1.13  \n",
    "    - **Germany**: 1.11  \n",
    "    - **Italy**: 1.14  \n",
    "    - **Netherlands**: 1.19  \n",
    "    - **Russia**: 1.53  \n",
    "    - **United Kingdom**: 1.02  \n",
    "\n",
    "*Note: These factors are based on _Chemical Engineering Design_, 3rd Edition (Towler & Sinnott, 2021).*\n",
    "\n",
    "Call to calculate FCI:"
   ]
  },
  {
   "cell_type": "code",
   "execution_count": null,
   "id": "86de0951",
   "metadata": {},
   "outputs": [],
   "source": [
    "demo_plant.calculate_fixed_capital(fc=1.05, print_results=True)\n"
   ]
  },
  {
   "cell_type": "markdown",
   "id": "212b6ea2",
   "metadata": {},
   "source": [
    "If you need only the ISBL, you can just perform `calculate_isbl`:"
   ]
  },
  {
   "cell_type": "code",
   "execution_count": null,
   "id": "426b4179",
   "metadata": {},
   "outputs": [],
   "source": [
    "demo_plant.calculate_isbl(print_results=True)"
   ]
  },
  {
   "cell_type": "markdown",
   "id": "501fc748",
   "metadata": {},
   "source": [
    "To retrieve the values of cost estimates for each component of capital cost, you can simply access the corresponding attributes:"
   ]
  },
  {
   "cell_type": "code",
   "execution_count": null,
   "id": "3916243e",
   "metadata": {},
   "outputs": [],
   "source": [
    "print(f\"OSBL: ${demo_plant.osbl:,.2f}\")\n",
    "print(f'Design and Engineering: ${demo_plant.dne:,.2f}')\n",
    "#  ... and so on"
   ]
  },
  {
   "cell_type": "markdown",
   "id": "4d1c4a65",
   "metadata": {},
   "source": [
    "**2. Fixed Operating Expenditure**\n",
    "\n",
    "Fixed production costs are those costs that do not vary with the rate of production, these include:\n",
    "- Maintenance\n",
    "- Taxes and insurance\n",
    "- Operating labor\n",
    "- Supervision and overhead\n",
    "- et cetera.\n",
    "\n",
    "<p style=\"text-align: justify;\">Fixed production costs are calculated using the <code>calculate_fixed_opex</code> function of the <code>ProcessPlant</code> object. Most cost components are derived from multiplication factors reported in <i>Analysis, Synthesis, and Design of Chemical Processes</i>, 5th Edition (Turton et al., 2018). These factors are applied to estimate fixed cost components based on the plant’s fixed capital investment, working capital, variable production costs, interest rate, and operator hourly rate. Thus, here, we first need to pass our working capital, interest rate and operator hourly rate assumptions to out <code>ProcessPlant</code> object:</p>\n",
    "\n",
    "Call to calculate Fixed OPEX:"
   ]
  },
  {
   "cell_type": "code",
   "execution_count": null,
   "id": "60e103f0",
   "metadata": {},
   "outputs": [],
   "source": [
    "demo_plant.calculate_fixed_opex(print_results=True)  # Calculate fixed OPEX costs"
   ]
  },
  {
   "cell_type": "markdown",
   "id": "a1bc79f5",
   "metadata": {},
   "source": [
    "To retrieve the values for each fixed operating cost components, you can do:"
   ]
  },
  {
   "cell_type": "code",
   "execution_count": null,
   "id": "a25a0712",
   "metadata": {},
   "outputs": [],
   "source": [
    "print(f'Operating labor costs: ${demo_plant.operating_labor_costs:,.2f}')\n",
    "print(f'Supervision costs: ${demo_plant.supervision_costs:,.2f}')\n",
    "print(f'Maintenance costs: ${demo_plant.maintenance_costs:,.2f}')\n",
    "# ..... and so on"
   ]
  },
  {
   "cell_type": "markdown",
   "id": "96a3ef27",
   "metadata": {},
   "source": [
    "**3. Variable Operating Expenditure**\n",
    "\n",
    "Variable operating expenses represent consumables and utilities that scale directly with plant production.\n",
    "These are defined through the variable_opex_inputs dictionary in your plant configuration and are automatically processed inside calculate_variable_opex().\n",
    "\n",
    "Each entry in variable_opex_inputs follows the format:\n",
    "```python\n",
    "\"variable_opex_inputs\": {\n",
    "    \"<item_name>\": {\n",
    "        \"consumption\": <annual_quantity>,\n",
    "        \"price\": <unit_price>\n",
    "    },\n",
    "    ...\n",
    "}\n",
    "```\n",
    "\n",
    "During calculation:\n",
    "1. Each item’s annual cost is computed as:\n",
    "\n",
    "            cost = daily_consumption × price × 365 x plant_utilization\n",
    "\n",
    "2. All items are summed to form the total variable operating cost (`self.variable_production_costs`).\n",
    "\n",
    "3. The results are stored in the plant instance and can be printed when `print_results=True.`\n",
    "\n",
    "For example:"
   ]
  },
  {
   "cell_type": "code",
   "execution_count": null,
   "id": "53e7e32d",
   "metadata": {},
   "outputs": [],
   "source": [
    "config = {\n",
    "    \"variable_opex_inputs\": {\n",
    "        \"electricity\":   {\"consumption\": 1.1e6, \"price\": 0.05},\n",
    "        \"cooling_water\": {\"consumption\": 1.6e6, \"price\": 0.0007},\n",
    "        \"steam\":         {\"consumption\": 4.0e5, \"price\": 0.02},\n",
    "        \"natural_gas\":   {\"consumption\": 1.0e5, \"price\": 0.035}\n",
    "    },\n",
    "}\n",
    "\n",
    "demo_plant.update_configuration(config)"
   ]
  },
  {
   "cell_type": "markdown",
   "id": "b3e79fa2",
   "metadata": {},
   "source": [
    "Then run:"
   ]
  },
  {
   "cell_type": "code",
   "execution_count": null,
   "id": "eaad2b61",
   "metadata": {},
   "outputs": [],
   "source": [
    "demo_plant.calculate_variable_opex(print_results=True)"
   ]
  },
  {
   "cell_type": "markdown",
   "id": "64c9e679",
   "metadata": {},
   "source": [
    "**4. Cash Flow Calculation**\n",
    "\n",
    "The cash flow represents the net annual financial performance of the plant, combining revenues, operating costs, capital investments, taxes, and depreciation.\n",
    "It is generated by calling:"
   ]
  },
  {
   "cell_type": "code",
   "execution_count": null,
   "id": "42100f8b",
   "metadata": {},
   "outputs": [],
   "source": [
    "demo_plant.calculate_cash_flow(print_results=True)"
   ]
  },
  {
   "cell_type": "markdown",
   "id": "9e22a656",
   "metadata": {},
   "source": [
    "The method builds yearly arrays for capital cost, production, revenue, OPEX, depreciation, taxable income, and cash flow over the defined project lifetime.\n",
    "\n",
    "---\n",
    "**Capital Expenditure (CAPEX) Ramp**\n",
    "\n",
    "Capital spending occurs during the first three years according to:\n",
    "\n",
    "| **Year**   | **CAPEX Fraction** | **Description**                              |\n",
    "| ---------- | ------------------ | -------------------------------------------- |\n",
    "| 0          | 30%                | Initial design and early construction        |\n",
    "| 1          | 60%                | Major equipment procurement and installation |\n",
    "| 2          | 10%                | Commissioning and start-up costs             |\n",
    "| Final year | —                  | Working capital released (negative CAPEX)    |\n",
    "\n",
    "Working capital is drawn in year 2 and returned in the final year.\n",
    "\n",
    "---\n",
    "**Production Ramp**\n",
    "\n",
    "Plant output increases gradually to reach full capacity:\n",
    "\n",
    "| **Year** | **Production Level** |\n",
    "| -------- | -------------------- |\n",
    "| 0        | 0%                   |\n",
    "| 1        | 0%                   |\n",
    "| 2        | 40%                  |\n",
    "| 3        | 80%                  |\n",
    "| 4+       | 100% (steady state)  |\n",
    "\n",
    "Full annual production is calculated as:\n",
    "\n",
    "            Annual Production = daily_prod × 365 × plant_utilization × ramp_factor\n",
    "\n",
    "The CAPEX and Production Ramp are currently not modifiable.\n",
    "\n",
    "---\n",
    "**Revenue and Operating Costs**\n",
    "\n",
    "Revenue for each year is calculated as:\n",
    "\n",
    "            Revenue = product_price × Annual Production\n",
    "\n",
    "Operating costs include:\n",
    "- Variable OPEX (from utilities and consumables)\n",
    "- Fixed OPEX (labor, maintenance, overheads, WC interest, etc.)\n",
    "- Adjusted by ramp factor during the start-up years\n",
    "\n",
    "---\n",
    "**Depreciation**\n",
    "\n",
    "Depreciation is applied using the selected depreciation method\n",
    "(`straight_line`, `declining_balance`, or `macrs`) and begins in the configured `service_start_year`.\n",
    "\n",
    "You can change the depreciation method as follows: "
   ]
  },
  {
   "cell_type": "code",
   "execution_count": null,
   "id": "69fd3026",
   "metadata": {},
   "outputs": [],
   "source": [
    "# Switching to straight-line depreciation\n",
    "demo_plant.update_configuration({\n",
    "    \"depreciation\": {\n",
    "        \"method\": \"straight_line\",\n",
    "        \"life\": 12,\n",
    "        \"salvage_fraction\": 0.05,\n",
    "        \"service_start_year\": 2\n",
    "    }\n",
    "})\n",
    "\n",
    "demo_plant.calculate_cash_flow(print_results=True)"
   ]
  },
  {
   "cell_type": "code",
   "execution_count": null,
   "id": "0eb66fde",
   "metadata": {},
   "outputs": [],
   "source": [
    "# Switching to Declining-Balance (200% DDB)\n",
    "demo_plant.update_configuration({\n",
    "    \"depreciation\": {\n",
    "        \"method\": \"declining_balance\",\n",
    "        \"life\": 10,\n",
    "        \"db_factor\": 2.0,        # 200% DDB (use 1.5 for 150% DB)\n",
    "        \"salvage_fraction\": 0.1,\n",
    "        \"service_start_year\": 2\n",
    "    }\n",
    "})\n",
    "\n",
    "demo_plant.calculate_cash_flow(print_results=True)"
   ]
  },
  {
   "cell_type": "markdown",
   "id": "23f30ca4",
   "metadata": {},
   "source": [
    "---\n",
    "\n",
    "**Tax**\n",
    "\n",
    "Taxable income is computed as:\n",
    "\n",
    "            Taxable Income = Gross Profit − Depreciation\n",
    "\n",
    "\n",
    "A *one-year lag* is applied to taxation:\n",
    "\n",
    "taxes in year t are based on taxable income from year t−1.\n",
    "\n",
    "---\n",
    "\n",
    "**Cash Flow Formula**\n",
    "\n",
    "The annual cash flow for each year is calculated as:\n",
    "\n",
    "        Cash Flow = Gross Profit − Tax Paid − Capital Cost\n",
    "\n",
    "where:\n",
    "- Gross Profit = Revenue − (Fixed OPEX + Variable OPEX)\n",
    "- Tax Paid = tax_rate × previous_year_taxable_income\n",
    "- Capital Cost includes CAPEX spending and working capital adjustment"
   ]
  },
  {
   "cell_type": "markdown",
   "id": "dffabc81",
   "metadata": {},
   "source": [
    "Now we can use the `calculate_variable_opex` function:"
   ]
  },
  {
   "cell_type": "markdown",
   "id": "bf6b567e",
   "metadata": {},
   "source": [
    "To retrieve the values for each variable operating cost components, you can do:"
   ]
  },
  {
   "cell_type": "markdown",
   "id": "307b9017",
   "metadata": {},
   "source": [
    "**5. Economic Performance Metrics**\n",
    "\n",
    "After building cash flows, use these methods to evaluate project economics.\n",
    "\n",
    "Run them after **calculate_cash_flow()** so the yearly arrays are available.\n",
    "\n",
    "---\n",
    "\n",
    "**Net Present Value (NPV)**\n",
    "\n",
    "Concept: Present value of all yearly cash flows discounted at interest_rate.\n",
    "\n",
    "Call:"
   ]
  },
  {
   "cell_type": "code",
   "execution_count": null,
   "id": "8e8f68cd",
   "metadata": {},
   "outputs": [],
   "source": [
    "demo_plant.calculate_npv(print_results=True)"
   ]
  },
  {
   "cell_type": "markdown",
   "id": "042f9672",
   "metadata": {},
   "source": [
    "Formula:\n",
    "\n",
    "$\n",
    "\\displaystyle NPV = \\sum_{t=1}^{t_p} \\frac{\\mathrm{Cash Flow}_t}{(1 + i)^t}\n",
    "$  \n",
    "\n",
    "- $i$ = fixed interest rate  \n",
    "- $t_p$ = project lifetime  (years)\n",
    "\n",
    "Outputs:\n",
    "\n",
    "`plant.pv_array` – present value of each year’s cash flow\n",
    "\n",
    "`plant.npv_array` – cumulative NPV by year (final entry is project NPV)\n",
    "\n",
    "---"
   ]
  },
  {
   "cell_type": "markdown",
   "id": "e5441431",
   "metadata": {},
   "source": [
    "**Levelized Cost of Product (LCOP)**\n",
    "\n",
    "Concept: The break-even selling price that sets NPV = 0 over the analysis horizon, given production volumes.\n",
    "\n",
    "Call:"
   ]
  },
  {
   "cell_type": "code",
   "execution_count": null,
   "id": "ec18d289",
   "metadata": {},
   "outputs": [],
   "source": [
    "demo_plant.calculate_levelized_cost(print_results=True)"
   ]
  },
  {
   "cell_type": "markdown",
   "id": "763038a5",
   "metadata": {},
   "source": [
    "Typical computation formula:\n",
    "\n",
    "$\n",
    "\\displaystyle LCOP = \\frac{\\sum_{t=1}^{t_p} \\frac{CAPEX_t + OPEX_t}{(1 + i)^{t}}}{\\sum_{t=1}^{t_p} \\frac{Q_t}{(1 + i)^{t}}}\n",
    "$\n",
    "\n",
    "- $CAPEX_t$ = capital expenditure in year $t$  \n",
    "- $OPEX_t$ = operating expenditure (cash cost) in year $t$  \n",
    "- $Q_t$ = production output in year $t$  \n",
    "\n",
    "Outputs:\n",
    "- `plant.levelized_cost` – scalar levelized cost\n",
    "\n",
    "---\n",
    "\n",
    "**Payback Time (PBT)**\n",
    "\n",
    "Concept: First year when cumulative cash flow ≥ 0 (undiscounted payback).\n",
    "\n",
    "Call:"
   ]
  },
  {
   "cell_type": "code",
   "execution_count": null,
   "id": "124de8d6",
   "metadata": {},
   "outputs": [],
   "source": [
    "demo_plant.calculate_payback_time(print_results=True)"
   ]
  },
  {
   "cell_type": "markdown",
   "id": "2b035107",
   "metadata": {},
   "source": [
    "Formula:\n",
    "\n",
    "$\n",
    "\\displaystyle \\mathrm{PBT} = \\frac{\\mathrm{FCI}}{\\overline{CF}}\n",
    "$  \n",
    "where:  \n",
    "- $\\mathrm{FCI}$ = fixed capital investment  \n",
    "- $\\overline{CF}$ = average annual cash flow  \n",
    "\n",
    "Outputs:\n",
    "- `plant.payback_time` – scalar PBT (years)\n",
    "\n",
    "---\n",
    "\n",
    "**Return on Investment (ROI)**\n",
    "\n",
    "Concept: Ratio of average annual profit to total invested capital (definition may vary; this follows your code’s chosen approach).\n",
    "\n",
    "Call:"
   ]
  },
  {
   "cell_type": "code",
   "execution_count": null,
   "id": "d26943ce",
   "metadata": {},
   "outputs": [],
   "source": [
    "demo_plant.calculate_roi(print_results=True)"
   ]
  },
  {
   "cell_type": "markdown",
   "id": "f9e16bb6",
   "metadata": {},
   "source": [
    "Formula:\n",
    "\n",
    "$\n",
    "\\displaystyle ROI = \\frac{\\sum_{t=1}^{t_p} \\text{Net Profit}_t}{t_p \\cdot \\sum \\text{Total Investment}}\n",
    "$ \n",
    "\n",
    "where:  \n",
    "- $\\text{Net Profit}_t$ = plant net profit in year $t$  \n",
    "- $\\text{Total Investment}$ = invested capital = FCI + working capital\n",
    "\n",
    "Outputs:\n",
    "- `plant.roi` – scalar ROI (fraction)\n",
    "\n",
    "---\n",
    "\n",
    "**Internal Rate of Return (IRR)**\n",
    "\n",
    "Concept: Discount rate that makes NPV = 0 for the project cash flows.\n",
    "\n",
    "Call:"
   ]
  },
  {
   "cell_type": "code",
   "execution_count": null,
   "id": "b461cfc1",
   "metadata": {},
   "outputs": [],
   "source": [
    "demo_plant.calculate_irr(print_results=True)"
   ]
  },
  {
   "cell_type": "markdown",
   "id": "f763a5a9",
   "metadata": {},
   "source": [
    "Equation: \n",
    "\n",
    "Find IRR such that,\n",
    "$\n",
    "\\displaystyle 0 = \\sum_{t=1}^{t_p} \\frac{CF_t}{(1 + IRR)^{t}}\n",
    "$\n",
    "\n",
    "Outputs:\n",
    "- `plant.irr` – scalar IRR (fraction)\n",
    "\n",
    "\n"
   ]
  },
  {
   "cell_type": "markdown",
   "id": "e14e7e5f",
   "metadata": {},
   "source": [
    "## ⚖️ Sensitivity and Uncertainty Analyses\n",
    "\n",
    "In techno-economic analysis (TEA), sensitivity analysis helps quantify how uncertainty in key assumptions propagates through the model to affect economic performance.\n",
    "Parameters such as capital costs, utility prices, operating factors, and financial assumptions rarely remain fixed throughout a project’s life. Understanding which inputs most strongly influence the Levelized Cost of Product (LCOP) enables better risk management and investment decisions.\n",
    "\n",
    "This section presents two complementary approaches:"
   ]
  },
  {
   "cell_type": "markdown",
   "id": "0f7cae81",
   "metadata": {},
   "source": [
    "### 🌀 Tornado Plot (Deterministic Sensitivity)\n",
    "\n",
    "A one-at-a-time (OAT) sensitivity approach.\n",
    "Each selected input variable is perturbed by a fixed percentage (e.g., ±50%) around its baseline value while all other parameters remain constant.\n",
    "The change in LCOP is recalculated for each case, and the results are displayed in a tornado plot—a horizontal bar chart where bar length indicates the magnitude of impact.\n",
    "This method highlights which parameters exert the greatest influence on the project outcome and helps prioritize data refinement or cost-reduction efforts.\n",
    "\n",
    "You generate the tornado plot as follows:"
   ]
  },
  {
   "cell_type": "code",
   "execution_count": null,
   "id": "4a75c5fd",
   "metadata": {},
   "outputs": [],
   "source": [
    "tornado_plot(plant = demo_plant, plus_minus_value=0.5, label=r'Levelized cost of product / [US\\$$\\cdot$kg$^{-1}$]')"
   ]
  },
  {
   "cell_type": "markdown",
   "id": "2ca09666",
   "metadata": {},
   "source": [
    "### 🎲 Monte Carlo Simulation (Probabilistic Sensitivity)\n",
    "\n",
    "A stochastic uncertainty analysis that captures simultaneous variation in all uncertain parameters.\n",
    "Each variable is assigned a probability distribution (e.g., truncated normal), and the model is executed thousands—or even millions—of times.\n",
    "Each iteration samples random values from the distributions and computes a new LCOP, resulting in a distribution of LCOP outcomes.\n",
    "This allows evaluation of:\n",
    "- The expected LCOP (mean or median value),\n",
    "- The spread (variance or confidence intervals),\n",
    "- And the likelihood of exceeding target costs or achieving economic viability.\n",
    "\n",
    "Monte Carlo analysis therefore provides a probabilistic understanding of economic risk, complementing the deterministic insight from the tornado plot.\n",
    "\n",
    "**Defining Variable OPEX with Uncertainty for Monte Carlo Analysis**\n",
    "\n",
    "To perform Monte Carlo simulations, the variable operating costs must include not only the baseline prices and consumptions, but also their statistical uncertainty.\n",
    "Each utility or consumable input is therefore defined with:\n",
    "\n",
    "- `consumption` – the daily usage quantity (in consistent process units)\n",
    "- `price` – the mean or baseline unit price\n",
    "- `price_std` – the standard deviation around the mean, representing uncertainty\n",
    "- `price_min` / `price_max` – lower and upper bounds used to truncate extreme values\n",
    "\n",
    "This structure enables the simulation engine to draw random samples for each input price from a bounded normal distribution, ensuring that every Monte Carlo iteration reflects realistic cost variability."
   ]
  },
  {
   "cell_type": "code",
   "execution_count": null,
   "id": "f99529ab",
   "metadata": {},
   "outputs": [],
   "source": [
    "config = {\n",
    "    \"variable_opex_inputs\": {\n",
    "        \"electricity\": {\n",
    "            \"consumption\": 1.1e6,        # Daily consumption \n",
    "            \"price\": 0.1,               # Mean unit price\n",
    "            \"price_std\": 0.05,           # Standard deviation (uncertainty)\n",
    "            \"price_min\": 0.01,           # Minimum plausible price\n",
    "            \"price_max\": 0.30            # Maximum plausible price\n",
    "        },\n",
    "        \"cooling_water\": {\n",
    "            \"consumption\": 1.6e6,        # Daily consumption\n",
    "            \"price\": 0.0008,             # Mean unit price \n",
    "            \"price_std\": 0.0003,         # Standard deviation\n",
    "            \"price_min\": 0.0001,         # Minimum plausible price\n",
    "            \"price_max\": 0.0014          # Maximum plausible price\n",
    "        },\n",
    "        \"steam\": {\n",
    "            \"consumption\": 4.0e5,        # Daily consumption \n",
    "            \"price\": 0.04,               # Mean unit price \n",
    "            \"price_std\": 0.02,           # Standard deviation\n",
    "            \"price_min\": 0.00,           # Minimum plausible price\n",
    "            \"price_max\": 0.08            # Maximum plausible price\n",
    "        },\n",
    "        \"natural_gas\": {\n",
    "            \"consumption\": 1.0e5,        # Daily consumption \n",
    "            \"price\": 0.05,              # Mean unit price \n",
    "            \"price_std\": 0.03,           # Standard deviation\n",
    "            \"price_min\": 0.005,          # Minimum plausible price\n",
    "            \"price_max\": 0.1             # Maximum plausible price\n",
    "        }\n",
    "        # Add more variable OPEX items as needed\n",
    "    }\n",
    "}\n",
    "\n",
    "demo_plant.update_configuration(config)"
   ]
  },
  {
   "cell_type": "markdown",
   "id": "f486ef12",
   "metadata": {},
   "source": [
    "**Additional Economic Uncertainties for Monte Carlo**\n",
    "\n",
    "Besides variable OPEX, several plant-level parameters strongly affect economic results.\n",
    "These can also be randomized in simulations to capture financial uncertainty:\n",
    "\n",
    "| **Parameter**       | **Description**                                          | **Effect on Model**                                           | **Default Standard Deviation** |\n",
    "| ------------------- | -------------------------------------------------------- | ------------------------------------------------------------- | ----------------------------   |\n",
    "| `fixed_capitals`    | Total installed CAPEX (ISBL + OSBL + D&E + contingency). | Drives initial investment, depreciation, and working capital. | 30%                            |  \n",
    "| `fixed_opexs`       | Annual fixed OPEX (labor, maintenance, overheads).       | Affects yearly cash cost.                                     | 30%                            |\n",
    "| `operator_hourlys`  | Operator wage rate (USD/hr).                             | Influences labor and overhead costs.                          | $10                            |\n",
    "| `project_lifetimes` | Economic project life (years).                           | Defines NPV and depreciation horizon.                         | 5 years                        |\n",
    "| `interests`         | Discount or financing rate (WACC).                       | Controls discounting and LCOP.                                | 3%                             |\n",
    "\n",
    "\n",
    "Currently, this is not modifiable.\n",
    "\n",
    "The following line runs the Monte Carlo analysis with 1,000,000 millions sampling:"
   ]
  },
  {
   "cell_type": "code",
   "execution_count": null,
   "id": "05fed394",
   "metadata": {},
   "outputs": [],
   "source": [
    "monte_carlo(plant=demo_plant, num_samples=1_000_000, batch_size=1000, show_input_distributions=True)"
   ]
  },
  {
   "cell_type": "markdown",
   "id": "b3cb6431",
   "metadata": {},
   "source": [
    "If you have multiple plants, you can plot the probability distribution results in one figure. See `examples/case_study_1`."
   ]
  },
  {
   "cell_type": "markdown",
   "id": "b8029c77",
   "metadata": {},
   "source": []
  }
 ],
 "metadata": {
  "kernelspec": {
   "display_name": "venv",
   "language": "python",
   "name": "python3"
  },
  "language_info": {
   "codemirror_mode": {
    "name": "ipython",
    "version": 3
   },
   "file_extension": ".py",
   "mimetype": "text/x-python",
   "name": "python",
   "nbconvert_exporter": "python",
   "pygments_lexer": "ipython3",
   "version": "3.13.3"
  }
 },
 "nbformat": 4,
 "nbformat_minor": 5
}
